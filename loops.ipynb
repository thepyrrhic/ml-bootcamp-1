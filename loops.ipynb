{
 "cells": [
  {
   "cell_type": "markdown",
   "id": "4f9a4231-1a64-4d68-b5f1-41d0ce00d7a7",
   "metadata": {},
   "source": [
    "# while loop"
   ]
  },
  {
   "cell_type": "code",
   "execution_count": 14,
   "id": "340c6b62-d943-4634-8c14-ee63c81bad60",
   "metadata": {},
   "outputs": [],
   "source": [
    "x=10\n",
    "i=1"
   ]
  },
  {
   "cell_type": "code",
   "execution_count": 15,
   "id": "c62843ca-7896-4863-8e3f-7cc76927042c",
   "metadata": {},
   "outputs": [
    {
     "name": "stdout",
     "output_type": "stream",
     "text": [
      "sunny\n",
      "2\n",
      "loops end\n",
      "sunny\n",
      "3\n",
      "loops end\n",
      "sunny\n",
      "4\n",
      "loops end\n",
      "sunny\n",
      "5\n",
      "loops end\n",
      "sunny\n",
      "6\n",
      "loops end\n",
      "sunny\n",
      "7\n",
      "loops end\n",
      "sunny\n",
      "8\n",
      "loops end\n",
      "sunny\n",
      "9\n",
      "loops end\n",
      "sunny\n",
      "10\n",
      "loops end\n"
     ]
    }
   ],
   "source": [
    "while i < x:\n",
    "    print(\"sunny\")\n",
    "    i=i+1\n",
    "    print(i)\n",
    "    \n",
    "    print(\"loops end\")"
   ]
  },
  {
   "cell_type": "markdown",
   "id": "2c21b2e2-5ed7-4166-895e-c5b850b814de",
   "metadata": {},
   "source": [
    "#print 50 natural numbers"
   ]
  },
  {
   "cell_type": "code",
   "execution_count": 22,
   "id": "bf2fd963-35af-4c70-95c1-8b0b7203e6d9",
   "metadata": {},
   "outputs": [
    {
     "name": "stdin",
     "output_type": "stream",
     "text": [
      "enter any number: 50\n"
     ]
    },
    {
     "name": "stdout",
     "output_type": "stream",
     "text": [
      "list of natural numbers from 1 to 50 are\n",
      "1 2 3 4 5 6 7 8 9 10 11 12 13 14 15 16 17 18 19 20 21 22 23 24 25 26 27 28 29 30 31 32 33 34 35 36 37 38 39 40 41 42 43 44 45 46 47 48 49 50 "
     ]
    }
   ],
   "source": [
    "number=int(input(\"enter any number:\"))\n",
    "i=1\n",
    "\n",
    "print(\"list of natural numbers from 1 to {0} are\".format(number))\n",
    "\n",
    "while(i<=number):\n",
    "    print(i,end=' ')\n",
    "    i=i+1"
   ]
  },
  {
   "cell_type": "markdown",
   "id": "8629733e-701a-4c38-9131-a21ff0cd2347",
   "metadata": {},
   "source": [
    "# write a program to accept # a string from the user and display it vertically but don't display the vowels in it ."
   ]
  },
  {
   "cell_type": "code",
   "execution_count": null,
   "id": "d755e59d-dc0a-423e-a5cd-9f760dbc69a8",
   "metadata": {},
   "outputs": [
    {
     "name": "stdin",
     "output_type": "stream",
     "text": [
      "enter any string: sunny savita\n"
     ]
    },
    {
     "name": "stdout",
     "output_type": "stream",
     "text": [
      "s\n"
     ]
    }
   ],
   "source": [
    "n=input(\"enter any string:\")\n",
    "a=0\n",
    "while (a<len(n)):\n",
    "    if n[a] !='a' and n[a] !='e' and n[a] !='i' and n[a] !='o'and n[a] !='u':\n",
    "        print(n[a])\n",
    "        a=a+1\n",
    "        "
   ]
  },
  {
   "cell_type": "code",
   "execution_count": null,
   "id": "27f97a0f-524a-4cbe-a619-23ea0a1fdd4a",
   "metadata": {},
   "outputs": [],
   "source": []
  },
  {
   "cell_type": "code",
   "execution_count": null,
   "id": "c5737a6c-5ef5-4cf8-aab8-27a36f867235",
   "metadata": {},
   "outputs": [],
   "source": []
  }
 ],
 "metadata": {
  "kernelspec": {
   "display_name": "Python 3 (ipykernel)",
   "language": "python",
   "name": "python3"
  },
  "language_info": {
   "codemirror_mode": {
    "name": "ipython",
    "version": 3
   },
   "file_extension": ".py",
   "mimetype": "text/x-python",
   "name": "python",
   "nbconvert_exporter": "python",
   "pygments_lexer": "ipython3",
   "version": "3.10.6"
  }
 },
 "nbformat": 4,
 "nbformat_minor": 5
}
