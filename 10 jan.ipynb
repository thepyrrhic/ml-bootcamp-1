{
 "cells": [
  {
   "cell_type": "code",
   "execution_count": 1,
   "id": "31241c17-6a3b-42ed-b075-fee6e5cb7c86",
   "metadata": {},
   "outputs": [],
   "source": [
    "mylist=[1,2,3,4]"
   ]
  },
  {
   "cell_type": "code",
   "execution_count": 2,
   "id": "b55583eb-8a9a-4dd8-86ba-6366ee6abe93",
   "metadata": {},
   "outputs": [],
   "source": [
    "mylist2=[1,\"hello\",2.5]"
   ]
  },
  {
   "cell_type": "markdown",
   "id": "7056fa29-24d4-46d1-9ccc-f5a3c0dc14cf",
   "metadata": {},
   "source": [
    "List Comprehension"
   ]
  },
  {
   "cell_type": "code",
   "execution_count": 4,
   "id": "07acf232-4d32-449f-a8f7-fe2692ce292d",
   "metadata": {},
   "outputs": [
    {
     "ename": "SyntaxError",
     "evalue": "invalid syntax (1659214754.py, line 1)",
     "output_type": "error",
     "traceback": [
      "\u001b[0;36m  Cell \u001b[0;32mIn [4], line 1\u001b[0;36m\u001b[0m\n\u001b[0;31m    list_comp=[X for x in iterable <test_condition>]\u001b[0m\n\u001b[0m                                                   ^\u001b[0m\n\u001b[0;31mSyntaxError\u001b[0m\u001b[0;31m:\u001b[0m invalid syntax\n"
     ]
    }
   ],
   "source": [
    "list_comp=[X for x in iterable <test_condition>]"
   ]
  },
  {
   "cell_type": "code",
   "execution_count": 5,
   "id": "75a9fd2c-6287-40bc-8e15-60054e931b0c",
   "metadata": {},
   "outputs": [
    {
     "ename": "SyntaxError",
     "evalue": "invalid syntax (1633438759.py, line 1)",
     "output_type": "error",
     "traceback": [
      "\u001b[0;36m  Cell \u001b[0;32mIn [5], line 1\u001b[0;36m\u001b[0m\n\u001b[0;31m    iterable:\u001b[0m\n\u001b[0m             ^\u001b[0m\n\u001b[0;31mSyntaxError\u001b[0m\u001b[0;31m:\u001b[0m invalid syntax\n"
     ]
    }
   ],
   "source": [
    "iterable:\n",
    "    list \n",
    "    tuple\n",
    "    dict\n",
    "    set\n",
    "    string"
   ]
  },
  {
   "cell_type": "code",
   "execution_count": 7,
   "id": "305190c2-d358-4b6d-a3bf-97a3aee44d91",
   "metadata": {},
   "outputs": [],
   "source": [
    "my_string=\"sunny savita\""
   ]
  },
  {
   "cell_type": "code",
   "execution_count": 8,
   "id": "89989584-19ac-4b32-9e64-b5e86373a180",
   "metadata": {},
   "outputs": [],
   "source": [
    "my_list=[]"
   ]
  },
  {
   "cell_type": "code",
   "execution_count": 9,
   "id": "a137ed21-7609-4010-8ffa-16c3582a56a1",
   "metadata": {},
   "outputs": [],
   "source": [
    "for i in my_string:\n",
    "    my_list.append(i)"
   ]
  },
  {
   "cell_type": "code",
   "execution_count": 10,
   "id": "dbf085dc-3298-4902-b8f2-47f8bda0df06",
   "metadata": {},
   "outputs": [
    {
     "data": {
      "text/plain": [
       "['s', 'u', 'n', 'n', 'y', ' ', 's', 'a', 'v', 'i', 't', 'a']"
      ]
     },
     "execution_count": 10,
     "metadata": {},
     "output_type": "execute_result"
    }
   ],
   "source": [
    "my_list"
   ]
  },
  {
   "cell_type": "markdown",
   "id": "d55cc953-532f-4a1e-abef-e921d226579f",
   "metadata": {},
   "source": [
    "# list comprehension"
   ]
  },
  {
   "cell_type": "code",
   "execution_count": 11,
   "id": "d0fbcafc-b156-40e9-8ddc-e8495550049a",
   "metadata": {},
   "outputs": [
    {
     "data": {
      "text/plain": [
       "['s', 'u', 'n', 'n', 'y', ' ', 's', 'a', 'v', 'i', 't', 'a']"
      ]
     },
     "execution_count": 11,
     "metadata": {},
     "output_type": "execute_result"
    }
   ],
   "source": [
    "[x for x in my_string]"
   ]
  },
  {
   "cell_type": "markdown",
   "id": "c881ba4e-3da8-49e3-96df-fc9c49ca1316",
   "metadata": {},
   "source": [
    "# write a program to produce square of numbers from 1 to 10, store them in a list and print the list"
   ]
  },
  {
   "cell_type": "code",
   "execution_count": 16,
   "id": "240f6b74-58ca-4081-a544-7ea8719c58b1",
   "metadata": {},
   "outputs": [
    {
     "ename": "IndentationError",
     "evalue": "unexpected indent (2076368643.py, line 2)",
     "output_type": "error",
     "traceback": [
      "\u001b[0;36m  Cell \u001b[0;32mIn [16], line 2\u001b[0;36m\u001b[0m\n\u001b[0;31m    for x in range(1,11):\u001b[0m\n\u001b[0m    ^\u001b[0m\n\u001b[0;31mIndentationError\u001b[0m\u001b[0;31m:\u001b[0m unexpected indent\n"
     ]
    }
   ],
   "source": [
    "mylist=[]\n",
    " for x in range(1,11):\n",
    "    print(x)\n",
    "    mylist.append(x**2)\n"
   ]
  },
  {
   "cell_type": "code",
   "execution_count": 17,
   "id": "f50c8a36-3796-4dc9-bf9f-b6050c186703",
   "metadata": {},
   "outputs": [
    {
     "data": {
      "text/plain": [
       "[1, 2, 3, 4]"
      ]
     },
     "execution_count": 17,
     "metadata": {},
     "output_type": "execute_result"
    }
   ],
   "source": [
    "mylist"
   ]
  },
  {
   "cell_type": "code",
   "execution_count": 18,
   "id": "d9fd9f0a-358d-4210-9452-5dca5c237709",
   "metadata": {},
   "outputs": [
    {
     "data": {
      "text/plain": [
       "[1, 4, 9, 16, 25, 36, 49, 64, 81, 100]"
      ]
     },
     "execution_count": 18,
     "metadata": {},
     "output_type": "execute_result"
    }
   ],
   "source": [
    "[x**2 for x in range(1,11)]"
   ]
  },
  {
   "cell_type": "markdown",
   "id": "5b82b3fe-7642-4028-8d23-01894b09b794",
   "metadata": {},
   "source": [
    "# wap to accept a string from user and convert each word of the given string into uppercase store it in a list and print that list"
   ]
  },
  {
   "cell_type": "code",
   "execution_count": 22,
   "id": "00c60384-5f21-40cb-8595-f21b89a60af2",
   "metadata": {},
   "outputs": [
    {
     "name": "stdin",
     "output_type": "stream",
     "text": [
      "enter the name chirag\n"
     ]
    },
    {
     "name": "stdout",
     "output_type": "stream",
     "text": [
      "['C', 'H', 'I', 'R', 'A', 'G']\n"
     ]
    }
   ],
   "source": [
    "mystring=input(\"enter the name\")\n",
    "mylist=[]\n",
    "for x in mystring:\n",
    "    mylist.append(x.upper())\n",
    "print(mylist)"
   ]
  },
  {
   "cell_type": "code",
   "execution_count": 23,
   "id": "92c3459c-944c-4f56-b96a-8ececb58e6b8",
   "metadata": {},
   "outputs": [
    {
     "name": "stdin",
     "output_type": "stream",
     "text": [
      "enter the name chirag agarwal\n"
     ]
    },
    {
     "data": {
      "text/plain": [
       "['C', 'H', 'I', 'R', 'A', 'G', ' ', 'A', 'G', 'A', 'R', 'W', 'A', 'L']"
      ]
     },
     "execution_count": 23,
     "metadata": {},
     "output_type": "execute_result"
    }
   ],
   "source": [
    "mystring=input(\"enter the name\")\n",
    "[x.upper()for x in mystring]\n",
    "\n"
   ]
  },
  {
   "cell_type": "code",
   "execution_count": 25,
   "id": "5d8d010b-a2cd-4936-a6f6-b11e0ad00a57",
   "metadata": {},
   "outputs": [
    {
     "data": {
      "text/plain": [
       "['sunny', 'savita']"
      ]
     },
     "execution_count": 25,
     "metadata": {},
     "output_type": "execute_result"
    }
   ],
   "source": [
    "\"sunny savita\".split()"
   ]
  },
  {
   "cell_type": "code",
   "execution_count": 27,
   "id": "b11301d6-2236-4ce5-a34d-76ed569ab130",
   "metadata": {},
   "outputs": [
    {
     "data": {
      "text/plain": [
       "['CHIRAG', 'AGARWAL']"
      ]
     },
     "execution_count": 27,
     "metadata": {},
     "output_type": "execute_result"
    }
   ],
   "source": [
    "[x.upper() for x in mystring.split()]"
   ]
  },
  {
   "cell_type": "markdown",
   "id": "a1971de4-d75a-49ea-8d5c-7a9102cb5fcb",
   "metadata": {},
   "source": [
    "# wap to accept a five integer from user and store them in a list , now display the sum of element and the element of list"
   ]
  },
  {
   "cell_type": "code",
   "execution_count": 35,
   "id": "fa13c236-eee0-4277-a381-a676396ce7ff",
   "metadata": {},
   "outputs": [
    {
     "name": "stdin",
     "output_type": "stream",
     "text": [
      "enter 5 integer: 1 2 3 4 5\n"
     ]
    },
    {
     "name": "stdout",
     "output_type": "stream",
     "text": [
      "['C', 'H', 'I', 'R', 'A', 'G', '1', '2', '3', '4', '5', '1', '2', '3', '4', '5', 1, 2, 3, 4, 5]\n"
     ]
    },
    {
     "ename": "TypeError",
     "evalue": "unsupported operand type(s) for +: 'int' and 'str'",
     "output_type": "error",
     "traceback": [
      "\u001b[0;31m---------------------------------------------------------------------------\u001b[0m",
      "\u001b[0;31mTypeError\u001b[0m                                 Traceback (most recent call last)",
      "Cell \u001b[0;32mIn [35], line 5\u001b[0m\n\u001b[1;32m      3\u001b[0m     mylist\u001b[38;5;241m.\u001b[39mappend(\u001b[38;5;28mint\u001b[39m(x))\n\u001b[1;32m      4\u001b[0m \u001b[38;5;28mprint\u001b[39m(mylist)\n\u001b[0;32m----> 5\u001b[0m \u001b[38;5;28mprint\u001b[39m(\u001b[38;5;28;43msum\u001b[39;49m\u001b[43m(\u001b[49m\u001b[43mmylist\u001b[49m\u001b[43m)\u001b[49m)\n",
      "\u001b[0;31mTypeError\u001b[0m: unsupported operand type(s) for +: 'int' and 'str'"
     ]
    }
   ],
   "source": [
    "number=input(\"enter 5 integer:\")\n",
    "for x in number.split():\n",
    "    mylist.append(int(x))\n",
    "print(mylist)\n",
    "print(sum(mylist))\n"
   ]
  },
  {
   "cell_type": "code",
   "execution_count": 29,
   "id": "aff45a02-aec8-4fe1-84e1-979ecf19a0c5",
   "metadata": {},
   "outputs": [
    {
     "data": {
      "text/plain": [
       "'1 2 3 4 5'"
      ]
     },
     "execution_count": 29,
     "metadata": {},
     "output_type": "execute_result"
    }
   ],
   "source": [
    "number"
   ]
  },
  {
   "cell_type": "code",
   "execution_count": 30,
   "id": "4416f06a-7810-4175-89b5-a888edaf56ca",
   "metadata": {},
   "outputs": [
    {
     "data": {
      "text/plain": [
       "['1', '2', '3', '4', '5']"
      ]
     },
     "execution_count": 30,
     "metadata": {},
     "output_type": "execute_result"
    }
   ],
   "source": [
    "number.split()"
   ]
  },
  {
   "cell_type": "code",
   "execution_count": 32,
   "id": "c9b6274f-b28a-427e-84ad-a4235ba422aa",
   "metadata": {},
   "outputs": [
    {
     "data": {
      "text/plain": [
       "['1', '2', '3', '4', '5']"
      ]
     },
     "execution_count": 32,
     "metadata": {},
     "output_type": "execute_result"
    }
   ],
   "source": [
    "\"1-2-3-4-5\".split(\"-\")"
   ]
  },
  {
   "cell_type": "markdown",
   "id": "a0391a64-2472-4b5d-ba93-6cd25bf0b44c",
   "metadata": {},
   "source": [
    "# wap to produce square of only odd nos from 1 to 50 , store them in a list.\n",
    "\n",
    "1. for loop\n",
    "2. list comprehension"
   ]
  },
  {
   "cell_type": "code",
   "execution_count": 40,
   "id": "26232a2c-79af-4358-b8bf-ad1bc13d0993",
   "metadata": {},
   "outputs": [],
   "source": [
    "c=[]\n",
    "for x in range (1,51):\n",
    "    if x%2!=0:\n",
    "        c.append(x**2)\n",
    "        \n"
   ]
  },
  {
   "cell_type": "code",
   "execution_count": 41,
   "id": "0de00a7b-50ae-4b3e-8a42-8fcd62180744",
   "metadata": {},
   "outputs": [
    {
     "data": {
      "text/plain": [
       "[1,\n",
       " 9,\n",
       " 25,\n",
       " 49,\n",
       " 81,\n",
       " 121,\n",
       " 169,\n",
       " 225,\n",
       " 289,\n",
       " 361,\n",
       " 441,\n",
       " 529,\n",
       " 625,\n",
       " 729,\n",
       " 841,\n",
       " 961,\n",
       " 1089,\n",
       " 1225,\n",
       " 1369,\n",
       " 1521,\n",
       " 1681,\n",
       " 1849,\n",
       " 2025,\n",
       " 2209,\n",
       " 2401]"
      ]
     },
     "execution_count": 41,
     "metadata": {},
     "output_type": "execute_result"
    }
   ],
   "source": [
    "c"
   ]
  },
  {
   "cell_type": "code",
   "execution_count": 43,
   "id": "115eb82b-db41-4c42-aac6-51cf72b9962d",
   "metadata": {},
   "outputs": [
    {
     "data": {
      "text/plain": [
       "[1,\n",
       " 9,\n",
       " 25,\n",
       " 49,\n",
       " 81,\n",
       " 121,\n",
       " 169,\n",
       " 225,\n",
       " 289,\n",
       " 361,\n",
       " 441,\n",
       " 529,\n",
       " 625,\n",
       " 729,\n",
       " 841,\n",
       " 961,\n",
       " 1089,\n",
       " 1225,\n",
       " 1369,\n",
       " 1521,\n",
       " 1681,\n",
       " 1849,\n",
       " 2025,\n",
       " 2209,\n",
       " 2401]"
      ]
     },
     "execution_count": 43,
     "metadata": {},
     "output_type": "execute_result"
    }
   ],
   "source": [
    "[x**2 for x in range(1,51) if x%2!=0]"
   ]
  },
  {
   "cell_type": "markdown",
   "id": "e7d356fc-e30b-4489-aebe-8b5864f436cb",
   "metadata": {},
   "source": [
    "# create a function called removevowels() which acept a string a argument abd return a list with all the vowels remved from the sring"
   ]
  },
  {
   "cell_type": "markdown",
   "id": "ccb4fe28-ac02-42c2-a6ad-3d2c48db539b",
   "metadata": {},
   "source": [
    "# homework"
   ]
  },
  {
   "cell_type": "code",
   "execution_count": null,
   "id": "87ad1d4b-b733-4110-b23d-7c58636b5108",
   "metadata": {},
   "outputs": [],
   "source": []
  },
  {
   "cell_type": "markdown",
   "id": "5e5d3505-b3aa-485b-9b57-e460903011ac",
   "metadata": {},
   "source": [
    "# TUPLE"
   ]
  },
  {
   "cell_type": "code",
   "execution_count": 44,
   "id": "ee2bd09e-2d15-4e8d-be49-5da35dcd035e",
   "metadata": {},
   "outputs": [],
   "source": [
    "mytuple=()"
   ]
  },
  {
   "cell_type": "code",
   "execution_count": 45,
   "id": "cb845735-29a2-495e-8adf-4504b123beb6",
   "metadata": {},
   "outputs": [
    {
     "data": {
      "text/plain": [
       "()"
      ]
     },
     "execution_count": 45,
     "metadata": {},
     "output_type": "execute_result"
    }
   ],
   "source": [
    "mytuple"
   ]
  },
  {
   "cell_type": "code",
   "execution_count": 46,
   "id": "a43ebf88-b993-4dc7-a521-aabcbe937b66",
   "metadata": {},
   "outputs": [],
   "source": [
    "mytuple=(1,2,3,4,5,6,67)"
   ]
  },
  {
   "cell_type": "code",
   "execution_count": 47,
   "id": "dd28fb6e-d6e1-4b25-99ae-7eb6ae605f1e",
   "metadata": {},
   "outputs": [
    {
     "data": {
      "text/plain": [
       "(1, 2, 3, 4, 5, 6, 67)"
      ]
     },
     "execution_count": 47,
     "metadata": {},
     "output_type": "execute_result"
    }
   ],
   "source": [
    "mytuple"
   ]
  },
  {
   "cell_type": "code",
   "execution_count": 48,
   "id": "691e0ea4-9c76-4aa0-91c5-1c4b98f2040d",
   "metadata": {},
   "outputs": [],
   "source": [
    "mytuple=(1,\"chirag\",10.5)"
   ]
  },
  {
   "cell_type": "code",
   "execution_count": 49,
   "id": "90358e3e-3fbe-45bc-b0c7-1ebc28b4d02c",
   "metadata": {},
   "outputs": [
    {
     "data": {
      "text/plain": [
       "(1, 'chirag', 10.5)"
      ]
     },
     "execution_count": 49,
     "metadata": {},
     "output_type": "execute_result"
    }
   ],
   "source": [
    "mytuple"
   ]
  },
  {
   "cell_type": "code",
   "execution_count": 50,
   "id": "8dedff48-9646-45ee-99cd-598ab845f782",
   "metadata": {},
   "outputs": [
    {
     "data": {
      "text/plain": [
       "tuple"
      ]
     },
     "execution_count": 50,
     "metadata": {},
     "output_type": "execute_result"
    }
   ],
   "source": [
    "type(mytuple)"
   ]
  },
  {
   "cell_type": "code",
   "execution_count": 51,
   "id": "fe2da28d-d65f-4c37-ae5a-7015097d3bd5",
   "metadata": {},
   "outputs": [],
   "source": [
    "mytuple=(10)"
   ]
  },
  {
   "cell_type": "code",
   "execution_count": 52,
   "id": "885ec888-3c9d-47fa-87fe-8a00eb4f46cf",
   "metadata": {},
   "outputs": [
    {
     "data": {
      "text/plain": [
       "int"
      ]
     },
     "execution_count": 52,
     "metadata": {},
     "output_type": "execute_result"
    }
   ],
   "source": [
    "type(mytuple)"
   ]
  },
  {
   "cell_type": "markdown",
   "id": "d0e47a48-d5f4-48ea-941e-b341926bd559",
   "metadata": {},
   "source": [
    "# concept of packing and unpacking"
   ]
  },
  {
   "cell_type": "markdown",
   "id": "43848b9d-55cc-4aad-b623-23fd83a3364c",
   "metadata": {},
   "source": [
    "# packing"
   ]
  },
  {
   "cell_type": "code",
   "execution_count": 55,
   "id": "8bb923a7-96a4-4256-82d1-695960cf19d6",
   "metadata": {},
   "outputs": [
    {
     "data": {
      "text/plain": [
       "(1, 2, 3, 4)"
      ]
     },
     "execution_count": 55,
     "metadata": {},
     "output_type": "execute_result"
    }
   ],
   "source": [
    "a=1,2,3,4\n",
    "a"
   ]
  },
  {
   "cell_type": "code",
   "execution_count": 56,
   "id": "4545a926-8898-4cd9-95ee-2d92fd202eba",
   "metadata": {},
   "outputs": [
    {
     "data": {
      "text/plain": [
       "tuple"
      ]
     },
     "execution_count": 56,
     "metadata": {},
     "output_type": "execute_result"
    }
   ],
   "source": [
    "type(a)"
   ]
  },
  {
   "cell_type": "markdown",
   "id": "9a2d58e8-5a81-44fd-909e-8f322817629e",
   "metadata": {},
   "source": [
    "# unpacking"
   ]
  },
  {
   "cell_type": "code",
   "execution_count": 57,
   "id": "ad9f5d62-d772-4fd8-b534-00579c247413",
   "metadata": {},
   "outputs": [],
   "source": [
    "x,y,z,h=a"
   ]
  },
  {
   "cell_type": "code",
   "execution_count": 58,
   "id": "a1819425-b80a-4f06-a862-b8e13226e07c",
   "metadata": {},
   "outputs": [
    {
     "data": {
      "text/plain": [
       "1"
      ]
     },
     "execution_count": 58,
     "metadata": {},
     "output_type": "execute_result"
    }
   ],
   "source": [
    "x"
   ]
  },
  {
   "cell_type": "code",
   "execution_count": 59,
   "id": "b5d1f598-03fe-4dcb-9e92-1f6faf97caf5",
   "metadata": {},
   "outputs": [
    {
     "data": {
      "text/plain": [
       "2"
      ]
     },
     "execution_count": 59,
     "metadata": {},
     "output_type": "execute_result"
    }
   ],
   "source": [
    "y"
   ]
  },
  {
   "cell_type": "code",
   "execution_count": 60,
   "id": "7695d91c-6f67-4add-8942-e11d16284b7d",
   "metadata": {},
   "outputs": [
    {
     "data": {
      "text/plain": [
       "3"
      ]
     },
     "execution_count": 60,
     "metadata": {},
     "output_type": "execute_result"
    }
   ],
   "source": [
    "z"
   ]
  },
  {
   "cell_type": "code",
   "execution_count": 61,
   "id": "7a496bb4-5e5e-451d-8220-c6927896c8e3",
   "metadata": {},
   "outputs": [
    {
     "data": {
      "text/plain": [
       "4"
      ]
     },
     "execution_count": 61,
     "metadata": {},
     "output_type": "execute_result"
    }
   ],
   "source": [
    "h"
   ]
  },
  {
   "cell_type": "code",
   "execution_count": 66,
   "id": "46558edc-8906-47ae-b9fa-ce8e7e2b2944",
   "metadata": {},
   "outputs": [],
   "source": [
    "mynums=([1,2],3,4,5,66,7)"
   ]
  },
  {
   "cell_type": "code",
   "execution_count": 68,
   "id": "678c7370-93e5-4617-96e7-66e892ac6f38",
   "metadata": {},
   "outputs": [],
   "source": [
    "mynums[0][1]=100"
   ]
  },
  {
   "cell_type": "code",
   "execution_count": 69,
   "id": "3b871bac-d705-4996-9854-ba802b4eb4d7",
   "metadata": {},
   "outputs": [
    {
     "data": {
      "text/plain": [
       "([1, 100], 3, 4, 5, 66, 7)"
      ]
     },
     "execution_count": 69,
     "metadata": {},
     "output_type": "execute_result"
    }
   ],
   "source": [
    "mynums"
   ]
  },
  {
   "cell_type": "code",
   "execution_count": 70,
   "id": "013d997c-1538-4ea8-a66b-85160d9e6855",
   "metadata": {},
   "outputs": [],
   "source": [
    "mytuple=(100,200,300,400,500)"
   ]
  },
  {
   "cell_type": "code",
   "execution_count": 71,
   "id": "116189bc-26b1-443f-a7b3-c9f61815dc43",
   "metadata": {},
   "outputs": [],
   "source": [
    "mytuple=(1,2,3,4,5)"
   ]
  },
  {
   "cell_type": "code",
   "execution_count": 72,
   "id": "8737ae4c-316a-4c87-ad3a-02d7330cf58f",
   "metadata": {},
   "outputs": [
    {
     "data": {
      "text/plain": [
       "(1, 2, 3, 4, 5)"
      ]
     },
     "execution_count": 72,
     "metadata": {},
     "output_type": "execute_result"
    }
   ],
   "source": [
    "mytuple"
   ]
  },
  {
   "cell_type": "code",
   "execution_count": 74,
   "id": "f861223c-1dfd-40e5-90a3-ced91fb644b5",
   "metadata": {},
   "outputs": [
    {
     "ename": "TypeError",
     "evalue": "'tuple' object doesn't support item deletion",
     "output_type": "error",
     "traceback": [
      "\u001b[0;31m---------------------------------------------------------------------------\u001b[0m",
      "\u001b[0;31mTypeError\u001b[0m                                 Traceback (most recent call last)",
      "Cell \u001b[0;32mIn [74], line 1\u001b[0m\n\u001b[0;32m----> 1\u001b[0m \u001b[38;5;28;01mdel\u001b[39;00m(mytuple[\u001b[38;5;241m3\u001b[39m])\n",
      "\u001b[0;31mTypeError\u001b[0m: 'tuple' object doesn't support item deletion"
     ]
    }
   ],
   "source": [
    "del(mytuple[3])"
   ]
  },
  {
   "cell_type": "code",
   "execution_count": 77,
   "id": "21d155d4-3a98-49e6-b428-49e338c7c840",
   "metadata": {},
   "outputs": [
    {
     "ename": "NameError",
     "evalue": "name 'function' is not defined",
     "output_type": "error",
     "traceback": [
      "\u001b[0;31m---------------------------------------------------------------------------\u001b[0m",
      "\u001b[0;31mNameError\u001b[0m                                 Traceback (most recent call last)",
      "Cell \u001b[0;32mIn [77], line 1\u001b[0m\n\u001b[0;32m----> 1\u001b[0m \u001b[43mfunction\u001b[49m \u001b[38;5;129;01min\u001b[39;00m \u001b[38;5;28mtuple\u001b[39m\n\u001b[1;32m      3\u001b[0m lenght()\n\u001b[1;32m      5\u001b[0m \u001b[38;5;28mmax\u001b[39m()\n",
      "\u001b[0;31mNameError\u001b[0m: name 'function' is not defined"
     ]
    }
   ],
   "source": [
    "function in tuple\n",
    "\n",
    "lenght()\n",
    "\n",
    "max()\n",
    "\n",
    "min()\n",
    "\n",
    "sum()\n",
    "\n",
    "sorted()\n",
    "\n",
    "any()\n",
    "\n",
    "all()\n",
    "\n",
    "tuple()"
   ]
  },
  {
   "cell_type": "code",
   "execution_count": 78,
   "id": "a655af10-fc89-40d1-9662-ee17d587d63d",
   "metadata": {},
   "outputs": [],
   "source": [
    "mytuple=(1,2,454,56,8,78,54,7,67)"
   ]
  },
  {
   "cell_type": "code",
   "execution_count": 79,
   "id": "93075277-1b8b-4379-a15c-c79efef51070",
   "metadata": {},
   "outputs": [
    {
     "data": {
      "text/plain": [
       "9"
      ]
     },
     "execution_count": 79,
     "metadata": {},
     "output_type": "execute_result"
    }
   ],
   "source": [
    "len(mytuple)"
   ]
  },
  {
   "cell_type": "code",
   "execution_count": 80,
   "id": "ba81686b-b0c1-4413-8149-ef85c3cc11fd",
   "metadata": {},
   "outputs": [
    {
     "data": {
      "text/plain": [
       "454"
      ]
     },
     "execution_count": 80,
     "metadata": {},
     "output_type": "execute_result"
    }
   ],
   "source": [
    "max(mytuple)"
   ]
  },
  {
   "cell_type": "code",
   "execution_count": 81,
   "id": "56a6d946-e285-41ea-8eb4-4a06081aaffe",
   "metadata": {},
   "outputs": [
    {
     "data": {
      "text/plain": [
       "1"
      ]
     },
     "execution_count": 81,
     "metadata": {},
     "output_type": "execute_result"
    }
   ],
   "source": [
    "min(mytuple)"
   ]
  },
  {
   "cell_type": "code",
   "execution_count": 82,
   "id": "42183511-1a55-47d4-ae89-998d02803952",
   "metadata": {},
   "outputs": [
    {
     "data": {
      "text/plain": [
       "727"
      ]
     },
     "execution_count": 82,
     "metadata": {},
     "output_type": "execute_result"
    }
   ],
   "source": [
    "sum(mytuple)"
   ]
  },
  {
   "cell_type": "code",
   "execution_count": 83,
   "id": "5fc10444-5e72-41c6-b434-9be2de28e680",
   "metadata": {},
   "outputs": [
    {
     "data": {
      "text/plain": [
       "[1, 2, 7, 8, 54, 56, 67, 78, 454]"
      ]
     },
     "execution_count": 83,
     "metadata": {},
     "output_type": "execute_result"
    }
   ],
   "source": [
    "sorted(mytuple)"
   ]
  },
  {
   "cell_type": "code",
   "execution_count": 85,
   "id": "b8285ea1-96f1-4962-8dd6-9ea7a33d3b9d",
   "metadata": {},
   "outputs": [
    {
     "data": {
      "text/plain": [
       "[454, 78, 67, 56, 54, 8, 7, 2, 1]"
      ]
     },
     "execution_count": 85,
     "metadata": {},
     "output_type": "execute_result"
    }
   ],
   "source": [
    "sorted(mytuple,reverse=True)"
   ]
  },
  {
   "cell_type": "code",
   "execution_count": 86,
   "id": "30e7fdcc-3480-4f64-b2ea-267bef25c9f3",
   "metadata": {},
   "outputs": [
    {
     "data": {
      "text/plain": [
       "True"
      ]
     },
     "execution_count": 86,
     "metadata": {},
     "output_type": "execute_result"
    }
   ],
   "source": [
    "# atleast one element should be true\n",
    "any(mytuple)"
   ]
  },
  {
   "cell_type": "code",
   "execution_count": 89,
   "id": "5f92d3c1-72fe-49ba-85b4-85e14812804b",
   "metadata": {},
   "outputs": [
    {
     "data": {
      "text/plain": [
       "('c', 'h', 'i', 'r', 'a', 'g')"
      ]
     },
     "execution_count": 89,
     "metadata": {},
     "output_type": "execute_result"
    }
   ],
   "source": [
    "tuple(\"chirag\")"
   ]
  },
  {
   "cell_type": "code",
   "execution_count": 92,
   "id": "c26fbed3-17a5-4f39-821c-80421a3081d6",
   "metadata": {},
   "outputs": [
    {
     "data": {
      "text/plain": [
       "(1, 23, 4, 45, 5, 434, 55, 55, 5, 56, 55)"
      ]
     },
     "execution_count": 92,
     "metadata": {},
     "output_type": "execute_result"
    }
   ],
   "source": [
    "tuple([1,23,4,45,5,434,55,55,5,56,55])"
   ]
  },
  {
   "cell_type": "code",
   "execution_count": 93,
   "id": "262e5685-e6e4-4a93-b0ca-13f711a5de90",
   "metadata": {},
   "outputs": [
    {
     "ename": "SyntaxError",
     "evalue": "invalid decimal literal (1894201128.py, line 4)",
     "output_type": "error",
     "traceback": [
      "\u001b[0;36m  Cell \u001b[0;32mIn [93], line 4\u001b[0;36m\u001b[0m\n\u001b[0;31m    1.list\u001b[0m\n\u001b[0m     ^\u001b[0m\n\u001b[0;31mSyntaxError\u001b[0m\u001b[0;31m:\u001b[0m invalid decimal literal\n"
     ]
    }
   ],
   "source": [
    "iterable is a object on top of that we can iterate\n",
    "\n",
    "\n",
    "1.list\n",
    "2.tuple\n",
    "3.string\n",
    "4.set\n",
    "5.range"
   ]
  },
  {
   "cell_type": "code",
   "execution_count": null,
   "id": "4d40e0fb-7cff-4cd8-8b46-beba34bd217d",
   "metadata": {},
   "outputs": [],
   "source": [
    "methods for tuple\n",
    "1.append()\n",
    "2.extend()\n",
    "3.insert()\n",
    "4.count()\n",
    "5.index()\n",
    "6.clear()= won't work\n",
    "7.pop()=won't work\n",
    "8.sort()=cannot\n",
    "9.reverse()=cannot\n",
    "10. remove()=won't work\n"
   ]
  },
  {
   "cell_type": "code",
   "execution_count": 94,
   "id": "ac300753-4493-4511-b6b7-9103d5ba53e0",
   "metadata": {},
   "outputs": [],
   "source": [
    "mytuple=(1,2,3,4,5)"
   ]
  },
  {
   "cell_type": "code",
   "execution_count": 95,
   "id": "b7ce2e8c-7858-43a5-922f-d9b120ca8dfc",
   "metadata": {},
   "outputs": [
    {
     "ename": "AttributeError",
     "evalue": "'tuple' object has no attribute 'append'",
     "output_type": "error",
     "traceback": [
      "\u001b[0;31m---------------------------------------------------------------------------\u001b[0m",
      "\u001b[0;31mAttributeError\u001b[0m                            Traceback (most recent call last)",
      "Cell \u001b[0;32mIn [95], line 1\u001b[0m\n\u001b[0;32m----> 1\u001b[0m \u001b[43mmytuple\u001b[49m\u001b[38;5;241;43m.\u001b[39;49m\u001b[43mappend\u001b[49m(\u001b[38;5;241m6\u001b[39m)\n",
      "\u001b[0;31mAttributeError\u001b[0m: 'tuple' object has no attribute 'append'"
     ]
    }
   ],
   "source": [
    "mytuple.append(6)"
   ]
  },
  {
   "cell_type": "code",
   "execution_count": 96,
   "id": "5b594a99-3085-4ef4-bc2b-0e403bec8b45",
   "metadata": {},
   "outputs": [
    {
     "ename": "AttributeError",
     "evalue": "'tuple' object has no attribute 'extend'",
     "output_type": "error",
     "traceback": [
      "\u001b[0;31m---------------------------------------------------------------------------\u001b[0m",
      "\u001b[0;31mAttributeError\u001b[0m                            Traceback (most recent call last)",
      "Cell \u001b[0;32mIn [96], line 1\u001b[0m\n\u001b[0;32m----> 1\u001b[0m \u001b[43mmytuple\u001b[49m\u001b[38;5;241;43m.\u001b[39;49m\u001b[43mextend\u001b[49m([\u001b[38;5;241m6\u001b[39m,\u001b[38;5;241m7\u001b[39m])\n",
      "\u001b[0;31mAttributeError\u001b[0m: 'tuple' object has no attribute 'extend'"
     ]
    }
   ],
   "source": [
    "mytuple.extend([6,7])"
   ]
  },
  {
   "cell_type": "code",
   "execution_count": 97,
   "id": "847f6e70-c65e-4294-b8a4-134a2883e95f",
   "metadata": {},
   "outputs": [
    {
     "ename": "AttributeError",
     "evalue": "'tuple' object has no attribute 'insert'",
     "output_type": "error",
     "traceback": [
      "\u001b[0;31m---------------------------------------------------------------------------\u001b[0m",
      "\u001b[0;31mAttributeError\u001b[0m                            Traceback (most recent call last)",
      "Cell \u001b[0;32mIn [97], line 1\u001b[0m\n\u001b[0;32m----> 1\u001b[0m \u001b[43mmytuple\u001b[49m\u001b[38;5;241;43m.\u001b[39;49m\u001b[43minsert\u001b[49m(\u001b[38;5;241m3\u001b[39m,\u001b[38;5;241m10\u001b[39m)\n",
      "\u001b[0;31mAttributeError\u001b[0m: 'tuple' object has no attribute 'insert'"
     ]
    }
   ],
   "source": [
    "mytuple.insert(3,10)"
   ]
  },
  {
   "cell_type": "code",
   "execution_count": 99,
   "id": "978ae8e6-6f83-49b3-afc8-7da0677fd2ce",
   "metadata": {},
   "outputs": [
    {
     "data": {
      "text/plain": [
       "1"
      ]
     },
     "execution_count": 99,
     "metadata": {},
     "output_type": "execute_result"
    }
   ],
   "source": [
    "mytuple.count(1)"
   ]
  },
  {
   "cell_type": "code",
   "execution_count": 100,
   "id": "3e924887-16ba-44d3-8aae-05ebd0221abc",
   "metadata": {},
   "outputs": [
    {
     "data": {
      "text/plain": [
       "3"
      ]
     },
     "execution_count": 100,
     "metadata": {},
     "output_type": "execute_result"
    }
   ],
   "source": [
    "# here we pass element and return the index value\n",
    "mytuple.index(4)"
   ]
  },
  {
   "cell_type": "code",
   "execution_count": 101,
   "id": "5da4d69c-7fdc-465b-b20e-2757bef7abb4",
   "metadata": {},
   "outputs": [
    {
     "ename": "AttributeError",
     "evalue": "'tuple' object has no attribute 'sort'",
     "output_type": "error",
     "traceback": [
      "\u001b[0;31m---------------------------------------------------------------------------\u001b[0m",
      "\u001b[0;31mAttributeError\u001b[0m                            Traceback (most recent call last)",
      "Cell \u001b[0;32mIn [101], line 1\u001b[0m\n\u001b[0;32m----> 1\u001b[0m \u001b[43mmytuple\u001b[49m\u001b[38;5;241;43m.\u001b[39;49m\u001b[43msort\u001b[49m()\n",
      "\u001b[0;31mAttributeError\u001b[0m: 'tuple' object has no attribute 'sort'"
     ]
    }
   ],
   "source": [
    "mytuple.sort()"
   ]
  },
  {
   "cell_type": "code",
   "execution_count": 102,
   "id": "0762a8f0-9c9f-41c9-93cd-c25b75e19585",
   "metadata": {},
   "outputs": [
    {
     "ename": "AttributeError",
     "evalue": "'tuple' object has no attribute 'reverse'",
     "output_type": "error",
     "traceback": [
      "\u001b[0;31m---------------------------------------------------------------------------\u001b[0m",
      "\u001b[0;31mAttributeError\u001b[0m                            Traceback (most recent call last)",
      "Cell \u001b[0;32mIn [102], line 1\u001b[0m\n\u001b[0;32m----> 1\u001b[0m \u001b[43mmytuple\u001b[49m\u001b[38;5;241;43m.\u001b[39;49m\u001b[43mreverse\u001b[49m()\n",
      "\u001b[0;31mAttributeError\u001b[0m: 'tuple' object has no attribute 'reverse'"
     ]
    }
   ],
   "source": [
    "mytuple.reverse()"
   ]
  },
  {
   "cell_type": "markdown",
   "id": "c5135786-df02-4c30-a9b0-49e6cc6438d4",
   "metadata": {},
   "source": [
    "# membership operator in and not works with tuple"
   ]
  },
  {
   "cell_type": "code",
   "execution_count": 103,
   "id": "ffd1625c-add5-4c9c-9122-5a25c65804cf",
   "metadata": {},
   "outputs": [],
   "source": [
    "my_tuple=(\"a\",\"e\",\"i\",\"o\",\"u\")"
   ]
  },
  {
   "cell_type": "code",
   "execution_count": 104,
   "id": "74a1c5b5-ba93-4084-903a-c7e2c9dd34a3",
   "metadata": {},
   "outputs": [
    {
     "data": {
      "text/plain": [
       "True"
      ]
     },
     "execution_count": 104,
     "metadata": {},
     "output_type": "execute_result"
    }
   ],
   "source": [
    "'a' in my_tuple"
   ]
  },
  {
   "cell_type": "code",
   "execution_count": 105,
   "id": "f901b248-be30-49ac-99cf-1992d6953dd5",
   "metadata": {},
   "outputs": [
    {
     "data": {
      "text/plain": [
       "False"
      ]
     },
     "execution_count": 105,
     "metadata": {},
     "output_type": "execute_result"
    }
   ],
   "source": [
    "'z' in my_tuple"
   ]
  },
  {
   "cell_type": "markdown",
   "id": "a409b452-63ef-42cf-8e2a-1a6000843128",
   "metadata": {},
   "source": [
    "# concatenation"
   ]
  },
  {
   "cell_type": "code",
   "execution_count": 107,
   "id": "4f05c244-09e0-4706-b37b-7bb7f6cca3f9",
   "metadata": {},
   "outputs": [],
   "source": [
    "odd=(1,3,5)\n",
    "even=(2,4,6)"
   ]
  },
  {
   "cell_type": "code",
   "execution_count": 109,
   "id": "fc50be7e-b215-458c-a295-137cad41ad46",
   "metadata": {},
   "outputs": [
    {
     "data": {
      "text/plain": [
       "139855306524864"
      ]
     },
     "execution_count": 109,
     "metadata": {},
     "output_type": "execute_result"
    }
   ],
   "source": [
    "id(odd)"
   ]
  },
  {
   "cell_type": "code",
   "execution_count": 110,
   "id": "05d50a84-8102-4f15-b6eb-e5b0f74202c9",
   "metadata": {},
   "outputs": [
    {
     "data": {
      "text/plain": [
       "139855305168640"
      ]
     },
     "execution_count": 110,
     "metadata": {},
     "output_type": "execute_result"
    }
   ],
   "source": [
    "id(even)"
   ]
  },
  {
   "cell_type": "code",
   "execution_count": 111,
   "id": "74d9cc31-a85b-4427-8d8c-9f3b4d18b54a",
   "metadata": {},
   "outputs": [
    {
     "data": {
      "text/plain": [
       "139855304161888"
      ]
     },
     "execution_count": 111,
     "metadata": {},
     "output_type": "execute_result"
    }
   ],
   "source": [
    "id(odd+even)"
   ]
  },
  {
   "cell_type": "markdown",
   "id": "da20bf83-cff9-4af7-b7af-b0145c4460b2",
   "metadata": {},
   "source": [
    "# relational operators"
   ]
  },
  {
   "cell_type": "code",
   "execution_count": 120,
   "id": "480a6cd7-20b1-4714-990d-39b4809e2570",
   "metadata": {},
   "outputs": [],
   "source": [
    "a=(4,5,3)\n",
    "b=(4,5,6)"
   ]
  },
  {
   "cell_type": "code",
   "execution_count": 121,
   "id": "969b90d6-3000-4a3d-a3be-71bc37e230b9",
   "metadata": {},
   "outputs": [
    {
     "data": {
      "text/plain": [
       "True"
      ]
     },
     "execution_count": 121,
     "metadata": {},
     "output_type": "execute_result"
    }
   ],
   "source": [
    "a<b"
   ]
  },
  {
   "cell_type": "code",
   "execution_count": 119,
   "id": "e0d716b0-3c66-4b9d-b098-98f43a9226eb",
   "metadata": {},
   "outputs": [
    {
     "data": {
      "text/plain": [
       "False"
      ]
     },
     "execution_count": 119,
     "metadata": {},
     "output_type": "execute_result"
    }
   ],
   "source": [
    "a>b"
   ]
  },
  {
   "cell_type": "markdown",
   "id": "bfdf92d2-3b88-486c-96b2-03c189d5e990",
   "metadata": {},
   "source": [
    "# sets"
   ]
  },
  {
   "cell_type": "code",
   "execution_count": null,
   "id": "275430d6-055f-4e76-a577-51b8fa55b299",
   "metadata": {},
   "outputs": [],
   "source": [
    "1.we cannot keep duplicate value\n",
    "2.we can not subscript operator(we cannot do indexing as well as slicing)\n",
    "3."
   ]
  },
  {
   "cell_type": "code",
   "execution_count": 122,
   "id": "c1da6bfd-88a5-462c-9e4d-6c30b18cf31e",
   "metadata": {},
   "outputs": [],
   "source": [
    "mylist=[1,2,3,4,5,]#access element with index this is possible\n",
    "mytuple=(1,2,3,4,5)#same as above\n",
    "myset={1,2,3,4,5}"
   ]
  },
  {
   "cell_type": "code",
   "execution_count": 123,
   "id": "9b52cf9f-5303-418f-8a92-21666fa87af7",
   "metadata": {},
   "outputs": [
    {
     "data": {
      "text/plain": [
       "list"
      ]
     },
     "execution_count": 123,
     "metadata": {},
     "output_type": "execute_result"
    }
   ],
   "source": [
    "type(mylist)"
   ]
  },
  {
   "cell_type": "code",
   "execution_count": 125,
   "id": "d5d25759-df11-42f8-a8fb-b401ac90b4c2",
   "metadata": {},
   "outputs": [
    {
     "data": {
      "text/plain": [
       "tuple"
      ]
     },
     "execution_count": 125,
     "metadata": {},
     "output_type": "execute_result"
    }
   ],
   "source": [
    "type(mytuple)"
   ]
  },
  {
   "cell_type": "code",
   "execution_count": 126,
   "id": "8f5228d4-6929-4de7-921f-e963149d51ef",
   "metadata": {},
   "outputs": [
    {
     "data": {
      "text/plain": [
       "set"
      ]
     },
     "execution_count": 126,
     "metadata": {},
     "output_type": "execute_result"
    }
   ],
   "source": [
    "type(myset)"
   ]
  },
  {
   "cell_type": "code",
   "execution_count": 128,
   "id": "7f0f12a4-dae7-47c3-803e-3e6e679598b0",
   "metadata": {},
   "outputs": [],
   "source": [
    "myset={1,2,3,4,5,66,56,56}"
   ]
  },
  {
   "cell_type": "code",
   "execution_count": 129,
   "id": "afacfc1b-6ccd-4800-bc8c-3dcb6ad9af6e",
   "metadata": {},
   "outputs": [
    {
     "data": {
      "text/plain": [
       "{1, 2, 3, 4, 5, 56, 66}"
      ]
     },
     "execution_count": 129,
     "metadata": {},
     "output_type": "execute_result"
    }
   ],
   "source": [
    "myset"
   ]
  },
  {
   "cell_type": "code",
   "execution_count": 130,
   "id": "1d879fd9-36fe-466d-aefd-4d8cbaee1a09",
   "metadata": {},
   "outputs": [
    {
     "ename": "TypeError",
     "evalue": "'set' object is not subscriptable",
     "output_type": "error",
     "traceback": [
      "\u001b[0;31m---------------------------------------------------------------------------\u001b[0m",
      "\u001b[0;31mTypeError\u001b[0m                                 Traceback (most recent call last)",
      "Cell \u001b[0;32mIn [130], line 1\u001b[0m\n\u001b[0;32m----> 1\u001b[0m \u001b[43mmyset\u001b[49m\u001b[43m[\u001b[49m\u001b[38;5;241;43m0\u001b[39;49m\u001b[43m]\u001b[49m\n",
      "\u001b[0;31mTypeError\u001b[0m: 'set' object is not subscriptable"
     ]
    }
   ],
   "source": [
    "myset[0]"
   ]
  },
  {
   "cell_type": "code",
   "execution_count": 131,
   "id": "88ea8f34-aa4e-473c-b690-2142b99b1efb",
   "metadata": {},
   "outputs": [
    {
     "ename": "TypeError",
     "evalue": "'set' object is not subscriptable",
     "output_type": "error",
     "traceback": [
      "\u001b[0;31m---------------------------------------------------------------------------\u001b[0m",
      "\u001b[0;31mTypeError\u001b[0m                                 Traceback (most recent call last)",
      "Cell \u001b[0;32mIn [131], line 1\u001b[0m\n\u001b[0;32m----> 1\u001b[0m \u001b[43mmyset\u001b[49m\u001b[43m[\u001b[49m\u001b[38;5;241;43m1\u001b[39;49m\u001b[43m:\u001b[49m\u001b[38;5;241;43m4\u001b[39;49m\u001b[43m]\u001b[49m\n",
      "\u001b[0;31mTypeError\u001b[0m: 'set' object is not subscriptable"
     ]
    }
   ],
   "source": [
    "myset[1:4]"
   ]
  },
  {
   "cell_type": "code",
   "execution_count": 134,
   "id": "ed3021a5-f191-42da-a654-f5936212c0f8",
   "metadata": {},
   "outputs": [],
   "source": [
    "myset={1,\"hello\",10.5}"
   ]
  },
  {
   "cell_type": "code",
   "execution_count": 135,
   "id": "5cb2987b-246f-47ac-8f67-a37e8a40d5d9",
   "metadata": {},
   "outputs": [
    {
     "data": {
      "text/plain": [
       "{1, 10.5, 'hello'}"
      ]
     },
     "execution_count": 135,
     "metadata": {},
     "output_type": "execute_result"
    }
   ],
   "source": [
    "myset"
   ]
  },
  {
   "cell_type": "code",
   "execution_count": 136,
   "id": "002d3ce0-3810-4038-87dd-b211693ee264",
   "metadata": {},
   "outputs": [],
   "source": [
    "# i can pass any iterable to set function\n",
    "# set(<iterble>)"
   ]
  },
  {
   "cell_type": "code",
   "execution_count": 138,
   "id": "027f15ba-e82c-415e-b91b-0087f4007894",
   "metadata": {},
   "outputs": [
    {
     "data": {
      "text/plain": [
       "{1, 2, 3, 4, 5, 6}"
      ]
     },
     "execution_count": 138,
     "metadata": {},
     "output_type": "execute_result"
    }
   ],
   "source": [
    "set([1,2,3,4,5,6])"
   ]
  },
  {
   "cell_type": "markdown",
   "id": "8c6f7b36-dcc7-46d4-8bee-9a17aaaf87a4",
   "metadata": {},
   "source": [
    "# if i can add something in set there is a function add()"
   ]
  },
  {
   "cell_type": "code",
   "execution_count": 139,
   "id": "63252168-26d0-4997-88df-ba9f6ade00e1",
   "metadata": {},
   "outputs": [],
   "source": [
    "myset.add(1000)"
   ]
  },
  {
   "cell_type": "code",
   "execution_count": 140,
   "id": "4126b71c-f611-46f8-81b4-18a06ad7c4d0",
   "metadata": {},
   "outputs": [
    {
     "data": {
      "text/plain": [
       "{1, 10.5, 1000, 'hello'}"
      ]
     },
     "execution_count": 140,
     "metadata": {},
     "output_type": "execute_result"
    }
   ],
   "source": [
    "myset"
   ]
  },
  {
   "cell_type": "markdown",
   "id": "92b771c0-b6eb-4f57-b6b9-e1d77f6fed91",
   "metadata": {},
   "source": [
    "# CLEAR()"
   ]
  },
  {
   "cell_type": "code",
   "execution_count": 141,
   "id": "691b93d3-9d41-408e-a8c9-cdf9a9992f34",
   "metadata": {},
   "outputs": [],
   "source": [
    "myset.clear()"
   ]
  },
  {
   "cell_type": "code",
   "execution_count": 142,
   "id": "d225822d-59a8-4a1c-a9df-54c5ad213a6a",
   "metadata": {},
   "outputs": [
    {
     "data": {
      "text/plain": [
       "set()"
      ]
     },
     "execution_count": 142,
     "metadata": {},
     "output_type": "execute_result"
    }
   ],
   "source": [
    "myset"
   ]
  },
  {
   "cell_type": "markdown",
   "id": "d09df854-5fa3-4de6-9217-9ae679c72e49",
   "metadata": {},
   "source": [
    "# copy()"
   ]
  },
  {
   "cell_type": "code",
   "execution_count": 144,
   "id": "02ba43c9-a3f7-467c-b5d2-43955519a04a",
   "metadata": {},
   "outputs": [],
   "source": [
    "myset={1,2,33,4,56,333,455}"
   ]
  },
  {
   "cell_type": "code",
   "execution_count": 145,
   "id": "7b8c6013-772c-4a8c-a415-a0194de908f5",
   "metadata": {},
   "outputs": [
    {
     "data": {
      "text/plain": [
       "{1, 2, 4, 33, 56, 333, 455}"
      ]
     },
     "execution_count": 145,
     "metadata": {},
     "output_type": "execute_result"
    }
   ],
   "source": [
    "myset.copy()"
   ]
  },
  {
   "cell_type": "markdown",
   "id": "77102043-94bb-455e-8ef3-ecc26562d211",
   "metadata": {},
   "source": [
    "# pop() # remove() # update()\n"
   ]
  },
  {
   "cell_type": "code",
   "execution_count": null,
   "id": "e060b8c2-2f43-4c22-8fea-d743025664b0",
   "metadata": {},
   "outputs": [],
   "source": []
  }
 ],
 "metadata": {
  "kernelspec": {
   "display_name": "Python 3 (ipykernel)",
   "language": "python",
   "name": "python3"
  },
  "language_info": {
   "codemirror_mode": {
    "name": "ipython",
    "version": 3
   },
   "file_extension": ".py",
   "mimetype": "text/x-python",
   "name": "python",
   "nbconvert_exporter": "python",
   "pygments_lexer": "ipython3",
   "version": "3.10.6"
  }
 },
 "nbformat": 4,
 "nbformat_minor": 5
}
