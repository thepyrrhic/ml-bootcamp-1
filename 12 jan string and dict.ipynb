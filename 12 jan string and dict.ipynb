{
 "cells": [
  {
   "cell_type": "markdown",
   "id": "01b1b627-f2ac-4fad-9449-f084d7d54b1b",
   "metadata": {},
   "source": [
    " # string"
   ]
  },
  {
   "cell_type": "code",
   "execution_count": 1,
   "id": "b869acd4-f56d-419c-b9df-8fc97fc1e4a2",
   "metadata": {},
   "outputs": [
    {
     "data": {
      "text/plain": [
       "' '"
      ]
     },
     "execution_count": 1,
     "metadata": {},
     "output_type": "execute_result"
    }
   ],
   "source": [
    "\"S\"\n",
    "\"chirag\"\n",
    "\" \""
   ]
  },
  {
   "cell_type": "code",
   "execution_count": 2,
   "id": "41fb023a-99c4-4126-8e3d-278f6e6520e4",
   "metadata": {},
   "outputs": [
    {
     "ename": "SyntaxError",
     "evalue": "unterminated triple-quoted string literal (detected at line 3) (2344749453.py, line 3)",
     "output_type": "error",
     "traceback": [
      "\u001b[0;36m  Cell \u001b[0;32mIn [2], line 3\u001b[0;36m\u001b[0m\n\u001b[0;31m    \"\"\"\u001b[0m\n\u001b[0m    ^\u001b[0m\n\u001b[0;31mSyntaxError\u001b[0m\u001b[0;31m:\u001b[0m unterminated triple-quoted string literal (detected at line 3)\n"
     ]
    }
   ],
   "source": [
    "\"\"\n",
    "''-python follow this by default\n",
    "\"\"\"\n"
   ]
  },
  {
   "cell_type": "code",
   "execution_count": 3,
   "id": "4a791a37-77bc-4117-9616-91f2a096c295",
   "metadata": {},
   "outputs": [],
   "source": [
    "mystring=\"chirag\""
   ]
  },
  {
   "cell_type": "code",
   "execution_count": 4,
   "id": "6300ae9e-cb21-4eb3-ae36-48bf39299644",
   "metadata": {},
   "outputs": [
    {
     "name": "stdout",
     "output_type": "stream",
     "text": [
      "chirag\n"
     ]
    }
   ],
   "source": [
    "print(mystring)"
   ]
  },
  {
   "cell_type": "code",
   "execution_count": 6,
   "id": "61fdb157-af3d-4a8f-b6fc-e73589349c0d",
   "metadata": {},
   "outputs": [
    {
     "data": {
      "text/plain": [
       "'chirag'"
      ]
     },
     "execution_count": 6,
     "metadata": {},
     "output_type": "execute_result"
    }
   ],
   "source": [
    "mystring"
   ]
  },
  {
   "cell_type": "code",
   "execution_count": 7,
   "id": "dcef8ae1-7dcb-4b1d-a17d-19d0200ea8fe",
   "metadata": {},
   "outputs": [],
   "source": [
    "mystring1='sunny'"
   ]
  },
  {
   "cell_type": "code",
   "execution_count": 8,
   "id": "37ec8578-3b0a-44d7-88fc-53e1b52a6e0e",
   "metadata": {},
   "outputs": [
    {
     "data": {
      "text/plain": [
       "'sunny'"
      ]
     },
     "execution_count": 8,
     "metadata": {},
     "output_type": "execute_result"
    }
   ],
   "source": [
    "mystring1\n"
   ]
  },
  {
   "cell_type": "code",
   "execution_count": 10,
   "id": "16fc27cd-f97d-4d88-a1f1-33e4ac0d6a03",
   "metadata": {},
   "outputs": [],
   "source": [
    "mystring3=\"\"\"i \n",
    "love\n",
    "python\"\"\""
   ]
  },
  {
   "cell_type": "code",
   "execution_count": 11,
   "id": "0d4dcfef-e147-46e4-93dc-e43beecd7666",
   "metadata": {},
   "outputs": [
    {
     "data": {
      "text/plain": [
       "'i \\nlove\\npython'"
      ]
     },
     "execution_count": 11,
     "metadata": {},
     "output_type": "execute_result"
    }
   ],
   "source": [
    "mystring3"
   ]
  },
  {
   "cell_type": "code",
   "execution_count": 12,
   "id": "25b49e61-687d-4752-887e-f36abd5cff14",
   "metadata": {},
   "outputs": [
    {
     "name": "stdout",
     "output_type": "stream",
     "text": [
      "i \n",
      "love\n",
      "python\n"
     ]
    }
   ],
   "source": [
    "print(mystring3)"
   ]
  },
  {
   "cell_type": "code",
   "execution_count": 13,
   "id": "e7503220-59c3-4785-87b4-ab736a229ed6",
   "metadata": {},
   "outputs": [],
   "source": [
    "mystring4=\"\""
   ]
  },
  {
   "cell_type": "code",
   "execution_count": 14,
   "id": "7b3f5343-2688-4c5d-a856-f881bb28f7f6",
   "metadata": {},
   "outputs": [
    {
     "data": {
      "text/plain": [
       "''"
      ]
     },
     "execution_count": 14,
     "metadata": {},
     "output_type": "execute_result"
    }
   ],
   "source": [
    "mystring4"
   ]
  },
  {
   "cell_type": "code",
   "execution_count": 15,
   "id": "d100decc-a852-4c3b-904b-569d9ccf37a0",
   "metadata": {},
   "outputs": [],
   "source": [
    "mystring5=\" \"\n"
   ]
  },
  {
   "cell_type": "code",
   "execution_count": 16,
   "id": "63895c1f-582a-47d2-8b86-d9a531ebac7f",
   "metadata": {},
   "outputs": [
    {
     "data": {
      "text/plain": [
       "' '"
      ]
     },
     "execution_count": 16,
     "metadata": {},
     "output_type": "execute_result"
    }
   ],
   "source": [
    "mystring5"
   ]
  },
  {
   "cell_type": "code",
   "execution_count": 17,
   "id": "710adfbc-7c35-43cc-9c73-dd0c27d82ebf",
   "metadata": {},
   "outputs": [],
   "source": [
    "mystring6=\"i love coding\""
   ]
  },
  {
   "cell_type": "code",
   "execution_count": 19,
   "id": "0a19db08-e122-4af0-8b72-a3bccda27250",
   "metadata": {},
   "outputs": [
    {
     "data": {
      "text/plain": [
       "12"
      ]
     },
     "execution_count": 19,
     "metadata": {},
     "output_type": "execute_result"
    }
   ],
   "source": [
    "len(mystring6)-1"
   ]
  },
  {
   "cell_type": "code",
   "execution_count": 20,
   "id": "7236add7-7bce-4ea1-af2a-ddd359c89747",
   "metadata": {},
   "outputs": [
    {
     "name": "stdout",
     "output_type": "stream",
     "text": [
      "v\n"
     ]
    }
   ],
   "source": [
    "print(mystring6[4])"
   ]
  },
  {
   "cell_type": "code",
   "execution_count": 21,
   "id": "ccdf6006-8f55-4717-9f59-f7648bb06c87",
   "metadata": {},
   "outputs": [
    {
     "name": "stdout",
     "output_type": "stream",
     "text": [
      "love\n"
     ]
    }
   ],
   "source": [
    "print(mystring6[2:6])"
   ]
  },
  {
   "cell_type": "markdown",
   "id": "ca82ed63-519b-4b6f-bbbd-fdcd14fd6cbb",
   "metadata": {},
   "source": [
    "# wap to take input from user and print it in reverse order\n",
    "\n",
    "note: dont use slicing operator"
   ]
  },
  {
   "cell_type": "code",
   "execution_count": null,
   "id": "ca0821ff-594e-4181-9bab-544a1acbc2ee",
   "metadata": {},
   "outputs": [],
   "source": []
  },
  {
   "cell_type": "code",
   "execution_count": 26,
   "id": "8f8efe51-6d7d-40a9-b3d6-0560ab144ffe",
   "metadata": {},
   "outputs": [
    {
     "name": "stdin",
     "output_type": "stream",
     "text": [
      "enter any name sunny\n"
     ]
    },
    {
     "name": "stdout",
     "output_type": "stream",
     "text": [
      "y\n",
      "n\n",
      "n\n",
      "u\n",
      "s\n"
     ]
    }
   ],
   "source": [
    "name=input(\"enter any name\")\n",
    "for i in range (len(name)-1,-1,-1):\n",
    "    print(name[i])"
   ]
  },
  {
   "cell_type": "markdown",
   "id": "7a79c047-0114-4a2f-8075-9fb4fe53862c",
   "metadata": {},
   "source": [
    "# + operator for concatination"
   ]
  },
  {
   "cell_type": "code",
   "execution_count": 27,
   "id": "76355637-a2b3-4f2a-9581-0b8bbb11dadb",
   "metadata": {},
   "outputs": [
    {
     "data": {
      "text/plain": [
       "'chiragagarwal'"
      ]
     },
     "execution_count": 27,
     "metadata": {},
     "output_type": "execute_result"
    }
   ],
   "source": [
    "\"chirag\"+\"agarwal\""
   ]
  },
  {
   "cell_type": "code",
   "execution_count": 28,
   "id": "0c09854b-fe6a-4d41-b14a-df4358f8f3b0",
   "metadata": {},
   "outputs": [
    {
     "data": {
      "text/plain": [
       "'chirag agarwal'"
      ]
     },
     "execution_count": 28,
     "metadata": {},
     "output_type": "execute_result"
    }
   ],
   "source": [
    "\"chirag\"+\" \"+\"agarwal\""
   ]
  },
  {
   "cell_type": "code",
   "execution_count": 29,
   "id": "686859c2-8418-46c4-bacd-671ccbc5f907",
   "metadata": {},
   "outputs": [
    {
     "data": {
      "text/plain": [
       "'chiragchirag'"
      ]
     },
     "execution_count": 29,
     "metadata": {},
     "output_type": "execute_result"
    }
   ],
   "source": [
    "\"chirag\"*2"
   ]
  },
  {
   "cell_type": "code",
   "execution_count": 31,
   "id": "e991f0c4-dda8-4bb7-b330-c724db1242a0",
   "metadata": {},
   "outputs": [
    {
     "data": {
      "text/plain": [
       "'banana'"
      ]
     },
     "execution_count": 31,
     "metadata": {},
     "output_type": "execute_result"
    }
   ],
   "source": [
    "\"ba\"+\"na\"*2"
   ]
  },
  {
   "cell_type": "code",
   "execution_count": 32,
   "id": "2ed5e20e-549a-4159-ae4b-6b7e841c3196",
   "metadata": {},
   "outputs": [],
   "source": [
    "mystring=\"i love my india\""
   ]
  },
  {
   "cell_type": "code",
   "execution_count": 33,
   "id": "36da7ffe-2c9a-4818-9eb4-59351351a889",
   "metadata": {},
   "outputs": [
    {
     "data": {
      "text/plain": [
       "True"
      ]
     },
     "execution_count": 33,
     "metadata": {},
     "output_type": "execute_result"
    }
   ],
   "source": [
    "\"love\" in mystring"
   ]
  },
  {
   "cell_type": "code",
   "execution_count": 34,
   "id": "cd553ae9-4530-4e7d-8e93-9d32f21fa2cd",
   "metadata": {},
   "outputs": [
    {
     "data": {
      "text/plain": [
       "True"
      ]
     },
     "execution_count": 34,
     "metadata": {},
     "output_type": "execute_result"
    }
   ],
   "source": [
    "\"india\" in mystring"
   ]
  },
  {
   "cell_type": "code",
   "execution_count": 35,
   "id": "5f2819b0-0754-40d3-94a6-933011f3c9ec",
   "metadata": {},
   "outputs": [
    {
     "data": {
      "text/plain": [
       "False"
      ]
     },
     "execution_count": 35,
     "metadata": {},
     "output_type": "execute_result"
    }
   ],
   "source": [
    "\"you\" in mystring"
   ]
  },
  {
   "cell_type": "code",
   "execution_count": 36,
   "id": "5cf8ba36-157a-4bd3-bc45-9874f4088e16",
   "metadata": {},
   "outputs": [
    {
     "data": {
      "text/plain": [
       "True"
      ]
     },
     "execution_count": 36,
     "metadata": {},
     "output_type": "execute_result"
    }
   ],
   "source": [
    "\" \" in mystring"
   ]
  },
  {
   "cell_type": "code",
   "execution_count": 37,
   "id": "d2f7f3fd-1fe7-4b98-9b9d-f4d22b88b76c",
   "metadata": {},
   "outputs": [
    {
     "data": {
      "text/plain": [
       "True"
      ]
     },
     "execution_count": 37,
     "metadata": {},
     "output_type": "execute_result"
    }
   ],
   "source": [
    "\"\" in mystring"
   ]
  },
  {
   "cell_type": "code",
   "execution_count": 39,
   "id": "90423dde-bfa6-4080-9c0e-8191faf586dd",
   "metadata": {},
   "outputs": [
    {
     "data": {
      "text/plain": [
       "True"
      ]
     },
     "execution_count": 39,
     "metadata": {},
     "output_type": "execute_result"
    }
   ],
   "source": [
    "\"japan\" not in mystring"
   ]
  },
  {
   "cell_type": "markdown",
   "id": "6929744c-e0ec-4a6f-bd74-d5540c4a91f7",
   "metadata": {},
   "source": [
    "# relational operator"
   ]
  },
  {
   "cell_type": "code",
   "execution_count": 40,
   "id": "15333e1e-35a5-44a5-a71b-c5ab126669bb",
   "metadata": {},
   "outputs": [
    {
     "data": {
      "text/plain": [
       "False"
      ]
     },
     "execution_count": 40,
     "metadata": {},
     "output_type": "execute_result"
    }
   ],
   "source": [
    "\"tim\" == \"freedom\""
   ]
  },
  {
   "cell_type": "code",
   "execution_count": 41,
   "id": "79026e0f-f046-485d-a974-84c973f9968d",
   "metadata": {},
   "outputs": [
    {
     "data": {
      "text/plain": [
       "True"
      ]
     },
     "execution_count": 41,
     "metadata": {},
     "output_type": "execute_result"
    }
   ],
   "source": [
    "\"free\" != \"freedom\""
   ]
  },
  {
   "cell_type": "code",
   "execution_count": 42,
   "id": "fab39fea-a35c-4c74-ac64-563a40bb4089",
   "metadata": {},
   "outputs": [
    {
     "data": {
      "text/plain": [
       "True"
      ]
     },
     "execution_count": 42,
     "metadata": {},
     "output_type": "execute_result"
    }
   ],
   "source": [
    "\"arrow\" > \"aron\""
   ]
  },
  {
   "cell_type": "code",
   "execution_count": 43,
   "id": "9660031e-06c8-4aa3-89d7-dd903c97a813",
   "metadata": {},
   "outputs": [
    {
     "data": {
      "text/plain": [
       "True"
      ]
     },
     "execution_count": 43,
     "metadata": {},
     "output_type": "execute_result"
    }
   ],
   "source": [
    "\"right\" >= \"left\""
   ]
  },
  {
   "cell_type": "code",
   "execution_count": 44,
   "id": "6ac46abb-f5fd-403c-ba98-92bd1fffc140",
   "metadata": {},
   "outputs": [
    {
     "data": {
      "text/plain": [
       "False"
      ]
     },
     "execution_count": 44,
     "metadata": {},
     "output_type": "execute_result"
    }
   ],
   "source": [
    "\"teeth\" < \"tee\""
   ]
  },
  {
   "cell_type": "code",
   "execution_count": 45,
   "id": "ca6c0229-3ee9-4646-a7fc-1f0524ee17a1",
   "metadata": {},
   "outputs": [
    {
     "data": {
      "text/plain": [
       "False"
      ]
     },
     "execution_count": 45,
     "metadata": {},
     "output_type": "execute_result"
    }
   ],
   "source": [
    "\"yellow\" < \"fellow\""
   ]
  },
  {
   "cell_type": "code",
   "execution_count": 46,
   "id": "8f633ee2-f2ab-4e3b-9a8d-a91fc45a7984",
   "metadata": {},
   "outputs": [
    {
     "data": {
      "text/plain": [
       "True"
      ]
     },
     "execution_count": 46,
     "metadata": {},
     "output_type": "execute_result"
    }
   ],
   "source": [
    "\"abc\" > \" \""
   ]
  },
  {
   "cell_type": "markdown",
   "id": "01c4521c-eb5b-4907-94a4-322094cf2399",
   "metadata": {},
   "source": [
    "# identity operator\n",
    "is and is not "
   ]
  },
  {
   "cell_type": "code",
   "execution_count": 48,
   "id": "7abe74a9-75e5-46b9-b25c-943c17c672a8",
   "metadata": {},
   "outputs": [],
   "source": [
    "a=\"sunny\"\n",
    "b=\"sunny\""
   ]
  },
  {
   "cell_type": "code",
   "execution_count": 49,
   "id": "0205659e-c836-4f1c-bfa2-f5ad7d5abbec",
   "metadata": {},
   "outputs": [
    {
     "data": {
      "text/plain": [
       "True"
      ]
     },
     "execution_count": 49,
     "metadata": {},
     "output_type": "execute_result"
    }
   ],
   "source": [
    "a is b"
   ]
  },
  {
   "cell_type": "markdown",
   "id": "4073b6d4-c8f6-431a-aa62-6f7bc0744b04",
   "metadata": {},
   "source": [
    "# funtions\n",
    "# max()\n",
    "\n",
    "# min()\n",
    "\n",
    "# chr()\n",
    "\n",
    "# ord()"
   ]
  },
  {
   "cell_type": "code",
   "execution_count": 51,
   "id": "186e0677-721c-4f5b-8209-c2c73315d0bb",
   "metadata": {},
   "outputs": [
    {
     "name": "stdout",
     "output_type": "stream",
     "text": [
      "16\n"
     ]
    }
   ],
   "source": [
    "mystring=\"sunnysavitaahz\"\n",
    "print(len(mystring))"
   ]
  },
  {
   "cell_type": "code",
   "execution_count": 52,
   "id": "bcf3f2f4-ad6e-4210-a37a-14aebf6d32b9",
   "metadata": {},
   "outputs": [
    {
     "data": {
      "text/plain": [
       "'z'"
      ]
     },
     "execution_count": 52,
     "metadata": {},
     "output_type": "execute_result"
    }
   ],
   "source": [
    "max(mystring)"
   ]
  },
  {
   "cell_type": "code",
   "execution_count": 55,
   "id": "4ba7c639-ce99-43d8-a6ae-f6debee64643",
   "metadata": {},
   "outputs": [
    {
     "data": {
      "text/plain": [
       "' '"
      ]
     },
     "execution_count": 55,
     "metadata": {},
     "output_type": "execute_result"
    }
   ],
   "source": [
    "min(mystring)"
   ]
  },
  {
   "cell_type": "code",
   "execution_count": 56,
   "id": "f0e38df0-b4b0-4c34-9d43-1528e1d96fca",
   "metadata": {},
   "outputs": [
    {
     "data": {
      "text/plain": [
       "32"
      ]
     },
     "execution_count": 56,
     "metadata": {},
     "output_type": "execute_result"
    }
   ],
   "source": [
    "ord(\" \")"
   ]
  },
  {
   "cell_type": "code",
   "execution_count": 57,
   "id": "8f59ef94-d6bb-45db-93af-bf4b8c373542",
   "metadata": {},
   "outputs": [
    {
     "data": {
      "text/plain": [
       "97"
      ]
     },
     "execution_count": 57,
     "metadata": {},
     "output_type": "execute_result"
    }
   ],
   "source": [
    "ord(\"a\")"
   ]
  },
  {
   "cell_type": "code",
   "execution_count": 58,
   "id": "0ab543ec-335f-47d7-880d-c014798b55f7",
   "metadata": {},
   "outputs": [
    {
     "data": {
      "text/plain": [
       "43"
      ]
     },
     "execution_count": 58,
     "metadata": {},
     "output_type": "execute_result"
    }
   ],
   "source": [
    "ord(\"+\")"
   ]
  },
  {
   "cell_type": "code",
   "execution_count": 59,
   "id": "89c368b7-08af-4701-9503-a2395419a5f8",
   "metadata": {},
   "outputs": [
    {
     "data": {
      "text/plain": [
       "48"
      ]
     },
     "execution_count": 59,
     "metadata": {},
     "output_type": "execute_result"
    }
   ],
   "source": [
    "ord(\"0\")"
   ]
  },
  {
   "cell_type": "code",
   "execution_count": 60,
   "id": "ce193603-1cc9-410b-854c-46c7872a3899",
   "metadata": {},
   "outputs": [
    {
     "data": {
      "text/plain": [
       "53"
      ]
     },
     "execution_count": 60,
     "metadata": {},
     "output_type": "execute_result"
    }
   ],
   "source": [
    "ord(\"5\")"
   ]
  },
  {
   "cell_type": "code",
   "execution_count": 62,
   "id": "a208a002-92a5-4e8e-8595-9c200433dead",
   "metadata": {},
   "outputs": [
    {
     "data": {
      "text/plain": [
       "'+'"
      ]
     },
     "execution_count": 62,
     "metadata": {},
     "output_type": "execute_result"
    }
   ],
   "source": [
    "chr(43)"
   ]
  },
  {
   "cell_type": "code",
   "execution_count": 64,
   "id": "bf5f7306-4854-459a-b272-15fcb440b3a2",
   "metadata": {},
   "outputs": [
    {
     "data": {
      "text/plain": [
       "'a'"
      ]
     },
     "execution_count": 64,
     "metadata": {},
     "output_type": "execute_result"
    }
   ],
   "source": [
    "chr(97)"
   ]
  },
  {
   "cell_type": "code",
   "execution_count": 65,
   "id": "f923066f-23ee-4d12-b71f-da76970e5f84",
   "metadata": {},
   "outputs": [
    {
     "data": {
      "text/plain": [
       "'n'"
      ]
     },
     "execution_count": 65,
     "metadata": {},
     "output_type": "execute_result"
    }
   ],
   "source": [
    "chr(110)"
   ]
  },
  {
   "cell_type": "markdown",
   "id": "b3447b12-c451-432f-84e3-2af48a7ff4ca",
   "metadata": {},
   "source": [
    "# methods of string"
   ]
  },
  {
   "cell_type": "markdown",
   "id": "6e5ec101-b3b7-4714-a82a-00e474adeb01",
   "metadata": {},
   "source": [
    "# capitalize( ): returns a copy of the string with the first character capitalized and rest of the characters in lower case"
   ]
  },
  {
   "cell_type": "code",
   "execution_count": 68,
   "id": "4df816cf-7467-4065-9a91-58e5c3969041",
   "metadata": {},
   "outputs": [],
   "source": [
    "name=\"guido van rossum\"\n",
    "newname=name.capitalize()"
   ]
  },
  {
   "cell_type": "code",
   "execution_count": 69,
   "id": "10bfb105-11bb-48eb-9c83-76a87d38ae65",
   "metadata": {},
   "outputs": [
    {
     "data": {
      "text/plain": [
       "'Guido van rossum'"
      ]
     },
     "execution_count": 69,
     "metadata": {},
     "output_type": "execute_result"
    }
   ],
   "source": [
    "newname"
   ]
  },
  {
   "cell_type": "markdown",
   "id": "b8d4ddb4-fd61-401f-a69b-f848818b3670",
   "metadata": {},
   "source": [
    "# lower()\n",
    "# upper()\n",
    "\n",
    "# returns a copy of the string with all letters converted to lowercase and uppercase respectivelu"
   ]
  },
  {
   "cell_type": "code",
   "execution_count": 70,
   "id": "ea618114-db5c-413a-8495-aeb7c5ec4988",
   "metadata": {},
   "outputs": [],
   "source": [
    "name=\"Sunny Savita\"\n",
    "lc=name.lower()"
   ]
  },
  {
   "cell_type": "code",
   "execution_count": 71,
   "id": "0c7efb50-ef20-47c5-be47-b8682387c994",
   "metadata": {},
   "outputs": [
    {
     "data": {
      "text/plain": [
       "'sunny savita'"
      ]
     },
     "execution_count": 71,
     "metadata": {},
     "output_type": "execute_result"
    }
   ],
   "source": [
    "lc"
   ]
  },
  {
   "cell_type": "code",
   "execution_count": 73,
   "id": "c43d6983-3230-4a78-9669-0d2aafb6e5b3",
   "metadata": {},
   "outputs": [],
   "source": [
    "uc=name.upper()"
   ]
  },
  {
   "cell_type": "code",
   "execution_count": 74,
   "id": "6d807472-d6cb-40e8-a473-a7386bebc8c3",
   "metadata": {},
   "outputs": [
    {
     "data": {
      "text/plain": [
       "'SUNNY SAVITA'"
      ]
     },
     "execution_count": 74,
     "metadata": {},
     "output_type": "execute_result"
    }
   ],
   "source": [
    "uc"
   ]
  },
  {
   "cell_type": "markdown",
   "id": "e1645b8e-bd2b-47dd-9861-c7b35069798b",
   "metadata": {},
   "source": [
    "# swapcase(): returns a copy of the string the case of every character swapped means that lc to uc"
   ]
  },
  {
   "cell_type": "code",
   "execution_count": 75,
   "id": "dbc3eb8e-3027-4f98-af51-33746f8f3694",
   "metadata": {},
   "outputs": [],
   "source": [
    "name=\"Sunny Savita\""
   ]
  },
  {
   "cell_type": "code",
   "execution_count": 76,
   "id": "0c7f0103-d7f2-4edf-946c-c9a9db7605cc",
   "metadata": {},
   "outputs": [
    {
     "data": {
      "text/plain": [
       "'sUNNY sAVITA'"
      ]
     },
     "execution_count": 76,
     "metadata": {},
     "output_type": "execute_result"
    }
   ],
   "source": [
    "name.swapcase()"
   ]
  },
  {
   "cell_type": "markdown",
   "id": "7f3e441f-a11f-496f-986a-f80bf42f9748",
   "metadata": {},
   "source": [
    "# title():returns a copy of the string coverted to proper case or title case.i.e. all words begin with uc  and rest are in lc"
   ]
  },
  {
   "cell_type": "code",
   "execution_count": 77,
   "id": "d1e76e56-72cd-4685-a954-d810aee57fc7",
   "metadata": {},
   "outputs": [],
   "source": [
    "text =\"i lOVe pYTHoN\""
   ]
  },
  {
   "cell_type": "code",
   "execution_count": 78,
   "id": "70382dfa-7707-4785-ad28-d3f88cddb946",
   "metadata": {},
   "outputs": [
    {
     "data": {
      "text/plain": [
       "'I Love Python'"
      ]
     },
     "execution_count": 78,
     "metadata": {},
     "output_type": "execute_result"
    }
   ],
   "source": [
    "text.title()"
   ]
  },
  {
   "cell_type": "markdown",
   "id": "dad02983-e8dc-4462-99a9-d21032047bb2",
   "metadata": {},
   "source": [
    "# is lower()\n",
    "# is upper()\n",
    "# is lower() and is upper()\n",
    "\n",
    "# returns true or false"
   ]
  },
  {
   "cell_type": "code",
   "execution_count": 79,
   "id": "1daa852b-c347-4b58-a10a-4a7db1195613",
   "metadata": {},
   "outputs": [],
   "source": [
    "text=\"this is good\" "
   ]
  },
  {
   "cell_type": "code",
   "execution_count": 80,
   "id": "2d69fcdc-443e-46e2-8f97-d35b280a30ed",
   "metadata": {},
   "outputs": [
    {
     "data": {
      "text/plain": [
       "True"
      ]
     },
     "execution_count": 80,
     "metadata": {},
     "output_type": "execute_result"
    }
   ],
   "source": [
    "text.islower()"
   ]
  },
  {
   "cell_type": "code",
   "execution_count": 82,
   "id": "db8b414a-e254-49b6-a980-ff4d81bb0a17",
   "metadata": {},
   "outputs": [
    {
     "data": {
      "text/plain": [
       "False"
      ]
     },
     "execution_count": 82,
     "metadata": {},
     "output_type": "execute_result"
    }
   ],
   "source": [
    "text.isupper()"
   ]
  },
  {
   "cell_type": "code",
   "execution_count": 83,
   "id": "14f8e8cb-e957-461a-baad-529072d2f75e",
   "metadata": {},
   "outputs": [],
   "source": [
    "text=\"I LOVE PYTHON\""
   ]
  },
  {
   "cell_type": "code",
   "execution_count": 84,
   "id": "60810752-d2b3-4d0e-ba86-adc8072e484b",
   "metadata": {},
   "outputs": [
    {
     "data": {
      "text/plain": [
       "True"
      ]
     },
     "execution_count": 84,
     "metadata": {},
     "output_type": "execute_result"
    }
   ],
   "source": [
    "text.isupper()"
   ]
  },
  {
   "cell_type": "markdown",
   "id": "b4a40311-1344-4216-b7fb-476c11a4f872",
   "metadata": {},
   "source": [
    "# isalpha()\n",
    "\n",
    "# returns true if the string contains only alphabets ,otherwise false\n",
    "\n",
    "no whitespace and integer"
   ]
  },
  {
   "cell_type": "code",
   "execution_count": 89,
   "id": "e954d74a-02d5-4039-8c28-4b245345754e",
   "metadata": {},
   "outputs": [],
   "source": [
    "string=\"mynameissunnyilovedatascience\""
   ]
  },
  {
   "cell_type": "code",
   "execution_count": 90,
   "id": "0ed7e047-e42a-42d4-a76d-57f15d1e6128",
   "metadata": {},
   "outputs": [
    {
     "data": {
      "text/plain": [
       "True"
      ]
     },
     "execution_count": 90,
     "metadata": {},
     "output_type": "execute_result"
    }
   ],
   "source": [
    "string.isalpha()"
   ]
  },
  {
   "cell_type": "markdown",
   "id": "614f75d1-0a41-472b-a489-eba8c5cec9a2",
   "metadata": {},
   "source": [
    "# isdigit()\n",
    "\n",
    "# returns true if the string contains only digits otherwise false"
   ]
  },
  {
   "cell_type": "code",
   "execution_count": 93,
   "id": "4644cea7-2641-48e9-b238-08a433864424",
   "metadata": {},
   "outputs": [],
   "source": [
    "mystring=\"1234567890\""
   ]
  },
  {
   "cell_type": "code",
   "execution_count": 94,
   "id": "37fce4d5-a703-48cb-8ef9-26395ac957f5",
   "metadata": {},
   "outputs": [
    {
     "data": {
      "text/plain": [
       "True"
      ]
     },
     "execution_count": 94,
     "metadata": {},
     "output_type": "execute_result"
    }
   ],
   "source": [
    "mystring.isdigit()"
   ]
  },
  {
   "cell_type": "markdown",
   "id": "f7793233-f167-4d84-a6d3-4a4336f4717a",
   "metadata": {},
   "source": [
    "# isalnum()\n",
    "\n",
    "# returns true if the string contains onlu alphanumeric characters"
   ]
  },
  {
   "cell_type": "code",
   "execution_count": 99,
   "id": "ea768111-6e76-4fdb-8a92-3b197ae03f7d",
   "metadata": {},
   "outputs": [],
   "source": [
    "mystring=\"sunny123\"\n",
    "mystring1=\"sunny\"\n",
    "mystring2=\"123455\"\n",
    "mystring3=\"sunnt123 savita5456\"\n",
    "mystring4=\"ehrj@\""
   ]
  },
  {
   "cell_type": "code",
   "execution_count": 103,
   "id": "c403ba1b-6ae1-4277-b535-852265b8b0a7",
   "metadata": {},
   "outputs": [
    {
     "name": "stdout",
     "output_type": "stream",
     "text": [
      "False\n",
      "True\n",
      "False\n"
     ]
    }
   ],
   "source": [
    "print(mystring.isalnum())\n",
    "print(mystring1.isalnum())\n",
    "print(mystring4.isalnum())"
   ]
  },
  {
   "cell_type": "markdown",
   "id": "d33c5b4c-b5b8-4edb-be74-8875afd26c41",
   "metadata": {},
   "source": [
    "# isspace()\n",
    "# returns true if string contains only whitespace characters otherwise returns false"
   ]
  },
  {
   "cell_type": "raw",
   "id": "76299e4d-d5f9-44e1-b118-13a4a170a70a",
   "metadata": {},
   "source": [
    "string= \" \""
   ]
  },
  {
   "cell_type": "code",
   "execution_count": 106,
   "id": "81833825-555a-4bef-a677-cbae50c0deb7",
   "metadata": {},
   "outputs": [
    {
     "data": {
      "text/plain": [
       "False"
      ]
     },
     "execution_count": 106,
     "metadata": {},
     "output_type": "execute_result"
    }
   ],
   "source": [
    "string.isspace()"
   ]
  },
  {
   "cell_type": "code",
   "execution_count": 107,
   "id": "72da61f3-f66c-4866-a8b4-19649de7a7a1",
   "metadata": {},
   "outputs": [],
   "source": [
    "string1=\"\""
   ]
  },
  {
   "cell_type": "code",
   "execution_count": 108,
   "id": "83df7b89-a87d-4892-9efd-5aa9f9fb45ef",
   "metadata": {},
   "outputs": [
    {
     "data": {
      "text/plain": [
       "False"
      ]
     },
     "execution_count": 108,
     "metadata": {},
     "output_type": "execute_result"
    }
   ],
   "source": [
    "string1.isspace()"
   ]
  },
  {
   "cell_type": "code",
   "execution_count": 109,
   "id": "f92027b9-a9b5-4435-a46f-86cb776c4080",
   "metadata": {},
   "outputs": [],
   "source": [
    "string2=\"S\""
   ]
  },
  {
   "cell_type": "code",
   "execution_count": 110,
   "id": "78c74fda-0e17-43e5-aee1-503e9207dca9",
   "metadata": {},
   "outputs": [
    {
     "data": {
      "text/plain": [
       "False"
      ]
     },
     "execution_count": 110,
     "metadata": {},
     "output_type": "execute_result"
    }
   ],
   "source": [
    "string2.isspace()"
   ]
  },
  {
   "cell_type": "markdown",
   "id": "88f99389-faaf-4a74-9652-2f9b88a503ab",
   "metadata": {},
   "source": [
    "# startswith()\n",
    "\n",
    "# endwith()"
   ]
  },
  {
   "cell_type": "code",
   "execution_count": 112,
   "id": "97223d0e-57b0-4ce4-b266-acf0603c1705",
   "metadata": {},
   "outputs": [],
   "source": [
    "text=\"i love machine learning\""
   ]
  },
  {
   "cell_type": "code",
   "execution_count": 113,
   "id": "b2416559-dba3-4da6-95c1-627e6582d9b5",
   "metadata": {},
   "outputs": [
    {
     "data": {
      "text/plain": [
       "False"
      ]
     },
     "execution_count": 113,
     "metadata": {},
     "output_type": "execute_result"
    }
   ],
   "source": [
    "text.startswith(\"love\")"
   ]
  },
  {
   "cell_type": "code",
   "execution_count": 114,
   "id": "b22aafdc-23c7-4212-8c5a-074f2d1ad944",
   "metadata": {},
   "outputs": [
    {
     "data": {
      "text/plain": [
       "False"
      ]
     },
     "execution_count": 114,
     "metadata": {},
     "output_type": "execute_result"
    }
   ],
   "source": [
    "text.endswith(\"machine\")"
   ]
  },
  {
   "cell_type": "code",
   "execution_count": 115,
   "id": "223d3ed7-385a-44a7-b96e-6039e8913448",
   "metadata": {},
   "outputs": [
    {
     "data": {
      "text/plain": [
       "True"
      ]
     },
     "execution_count": 115,
     "metadata": {},
     "output_type": "execute_result"
    }
   ],
   "source": [
    "text.endswith(\"learning\")"
   ]
  },
  {
   "cell_type": "markdown",
   "id": "a426d268-1361-4b4c-978c-48e515621bce",
   "metadata": {},
   "source": [
    "# index()"
   ]
  },
  {
   "cell_type": "code",
   "execution_count": 118,
   "id": "711502b9-76cb-4afc-96ee-803e4d660999",
   "metadata": {},
   "outputs": [],
   "source": [
    "text=\"sunday is fun day\""
   ]
  },
  {
   "cell_type": "code",
   "execution_count": 119,
   "id": "bfdbf1f0-e799-4a94-87d4-070f1c02556b",
   "metadata": {},
   "outputs": [
    {
     "data": {
      "text/plain": [
       "10"
      ]
     },
     "execution_count": 119,
     "metadata": {},
     "output_type": "execute_result"
    }
   ],
   "source": [
    "text.index(\"fun\")"
   ]
  },
  {
   "cell_type": "code",
   "execution_count": 120,
   "id": "863d792c-86d9-4138-a8c1-5573f7dbb371",
   "metadata": {},
   "outputs": [
    {
     "data": {
      "text/plain": [
       "3"
      ]
     },
     "execution_count": 120,
     "metadata": {},
     "output_type": "execute_result"
    }
   ],
   "source": [
    "text.index(\"day\")"
   ]
  },
  {
   "cell_type": "markdown",
   "id": "0996fc8e-8d2c-497e-b3fe-c47457524329",
   "metadata": {},
   "source": [
    "# count()\n",
    "# returns the number of occurences of a substring in the gien string"
   ]
  },
  {
   "cell_type": "code",
   "execution_count": 123,
   "id": "bdf43d94-404b-44a9-a5bb-07d583d2f5fa",
   "metadata": {},
   "outputs": [
    {
     "data": {
      "text/plain": [
       "3"
      ]
     },
     "execution_count": 123,
     "metadata": {},
     "output_type": "execute_result"
    }
   ],
   "source": [
    "text=\"python is awesome. isn't it?, is it true'\"\n",
    "text.count(\"is\")"
   ]
  },
  {
   "cell_type": "markdown",
   "id": "7a1850cc-9ea1-4b1b-976b-6ac3a1a387c4",
   "metadata": {},
   "source": [
    "# split()"
   ]
  },
  {
   "cell_type": "code",
   "execution_count": 124,
   "id": "5cb9fd91-5412-4564-b9a8-446ee8c18aae",
   "metadata": {},
   "outputs": [
    {
     "data": {
      "text/plain": [
       "['i', 'love', 'my', 'india']"
      ]
     },
     "execution_count": 124,
     "metadata": {},
     "output_type": "execute_result"
    }
   ],
   "source": [
    "\"i@love@my@india\".split(\"@\")"
   ]
  },
  {
   "cell_type": "markdown",
   "id": "f6dafb9d-f26c-4ecc-97c3-91b34a0d6752",
   "metadata": {},
   "source": [
    "# join()"
   ]
  },
  {
   "cell_type": "code",
   "execution_count": 125,
   "id": "bc38035b-9d4e-4628-8f20-3d91c3cf5444",
   "metadata": {},
   "outputs": [
    {
     "data": {
      "text/plain": [
       "'s u n n y'"
      ]
     },
     "execution_count": 125,
     "metadata": {},
     "output_type": "execute_result"
    }
   ],
   "source": [
    "\" \".join([\"s\",\"u\",\"n\",\"n\",\"y\"])"
   ]
  },
  {
   "cell_type": "code",
   "execution_count": 126,
   "id": "5cd86d8b-d59d-4e66-9f3e-8a07f2adb46e",
   "metadata": {},
   "outputs": [
    {
     "data": {
      "text/plain": [
       "'sunny'"
      ]
     },
     "execution_count": 126,
     "metadata": {},
     "output_type": "execute_result"
    }
   ],
   "source": [
    "\"\".join([\"s\",\"u\",\"n\",\"n\",\"y\"])"
   ]
  },
  {
   "cell_type": "code",
   "execution_count": 127,
   "id": "241374a3-a7e6-4a5b-9ff7-174afa723d5e",
   "metadata": {},
   "outputs": [
    {
     "data": {
      "text/plain": [
       "'s@u@n@n@y'"
      ]
     },
     "execution_count": 127,
     "metadata": {},
     "output_type": "execute_result"
    }
   ],
   "source": [
    "\"@\".join([\"s\",\"u\",\"n\",\"n\",\"y\"])"
   ]
  },
  {
   "cell_type": "code",
   "execution_count": 129,
   "id": "947bcda9-f86e-4d25-89b5-fb7e536ba80e",
   "metadata": {},
   "outputs": [
    {
     "data": {
      "text/plain": [
       "'s@u@n@n@y'"
      ]
     },
     "execution_count": 129,
     "metadata": {},
     "output_type": "execute_result"
    }
   ],
   "source": [
    "\"@\".join(\"sunny\")"
   ]
  },
  {
   "cell_type": "code",
   "execution_count": 130,
   "id": "25765457-c161-499f-8505-814d8ed0534f",
   "metadata": {},
   "outputs": [],
   "source": [
    "name=\"sunny\"\n",
    "age=26"
   ]
  },
  {
   "cell_type": "code",
   "execution_count": 131,
   "id": "293e6029-6d18-40fe-a83f-2b3c07310f3b",
   "metadata": {},
   "outputs": [
    {
     "name": "stdout",
     "output_type": "stream",
     "text": [
      "My name is sunny and my age is 26\n"
     ]
    }
   ],
   "source": [
    "print(\"My name is\",name,\"and my age is\",age)"
   ]
  },
  {
   "cell_type": "code",
   "execution_count": 134,
   "id": "8e85aab3-ddbd-4e3c-becf-c951d4309ce1",
   "metadata": {},
   "outputs": [
    {
     "name": "stdout",
     "output_type": "stream",
     "text": [
      "My name is sunny and my age is 26\n"
     ]
    }
   ],
   "source": [
    "print(\"My name is {0} and my age is {1}\".format(name,age))"
   ]
  },
  {
   "cell_type": "markdown",
   "id": "4de565ee-8fe0-4694-80f4-eeaea4032186",
   "metadata": {},
   "source": [
    "# f-string\n",
    "\n",
    "# string interpolation"
   ]
  },
  {
   "cell_type": "code",
   "execution_count": 136,
   "id": "d9f857d2-5edd-40c4-96dc-062c62645b3c",
   "metadata": {},
   "outputs": [
    {
     "name": "stdout",
     "output_type": "stream",
     "text": [
      "my name is sunny my age is 26\n"
     ]
    }
   ],
   "source": [
    "print(f\"my name is {name} my age is {age}\")"
   ]
  },
  {
   "cell_type": "code",
   "execution_count": 143,
   "id": "3b2ff614-d92f-4bd4-8cdf-e1dbacda272b",
   "metadata": {},
   "outputs": [],
   "source": [
    "a=10\n",
    "b=20\n"
   ]
  },
  {
   "cell_type": "code",
   "execution_count": 145,
   "id": "b8f52607-974e-429c-9a90-0d78677e4d88",
   "metadata": {},
   "outputs": [
    {
     "name": "stdout",
     "output_type": "stream",
     "text": [
      "my first number is 10 my second number is 20 and maximum number is 20\n"
     ]
    }
   ],
   "source": [
    "print(f\"my first number is {a} my second number is {b} and maximum number is {max(a,b)}\")"
   ]
  },
  {
   "cell_type": "code",
   "execution_count": null,
   "id": "37204806-88a1-4337-b088-68d4139c0b72",
   "metadata": {},
   "outputs": [],
   "source": []
  },
  {
   "cell_type": "markdown",
   "id": "f8206f1f-7268-437b-93ae-877957eaec32",
   "metadata": {},
   "source": [
    "# DICTIONARY"
   ]
  },
  {
   "cell_type": "code",
   "execution_count": 147,
   "id": "c623e2d0-b6af-47ff-bca4-3f4ff208a18f",
   "metadata": {},
   "outputs": [],
   "source": [
    "list=[]\n",
    "tuple=()\n",
    "set={}\n",
    "string=\"\"\n"
   ]
  },
  {
   "cell_type": "code",
   "execution_count": null,
   "id": "5416ecc4-1878-4ebb-92e9-85e1f727bc78",
   "metadata": {},
   "outputs": [],
   "source": [
    "key:value pair\n",
    "\n",
    "if i want to connect one piece of info with other piece of info so we always use dictionary\n",
    "\n",
    "dictionary :is a collection which hold data in pair and (that pair will be in key and value)\n",
    "\n",
    "ex: rollno->student name\n",
    "    name-> mobile number\n",
    " \n"
   ]
  },
  {
   "cell_type": "code",
   "execution_count": null,
   "id": "cc225e80-e966-461f-a323-ae424fa6f817",
   "metadata": {},
   "outputs": [],
   "source": [
    "# syntax of dictionary in python\n",
    "\n",
    "{ key1:value1,\n",
    " key2:value2,\n",
    " key3:value3,\n",
    "....\n",
    " keyn:valuen\n",
    "}"
   ]
  },
  {
   "cell_type": "code",
   "execution_count": 148,
   "id": "fed77251-ad60-45f3-abf5-9f7dcf7e74ed",
   "metadata": {},
   "outputs": [],
   "source": [
    "mydict={}"
   ]
  },
  {
   "cell_type": "code",
   "execution_count": 150,
   "id": "f5ba2674-11d0-4682-b1c8-c64d5b4123c5",
   "metadata": {},
   "outputs": [
    {
     "data": {
      "text/plain": [
       "dict"
      ]
     },
     "execution_count": 150,
     "metadata": {},
     "output_type": "execute_result"
    }
   ],
   "source": [
    "type(mydict)"
   ]
  },
  {
   "cell_type": "code",
   "execution_count": 151,
   "id": "7230d7f6-7197-4c80-997f-e2071bbb0911",
   "metadata": {},
   "outputs": [],
   "source": [
    "# dict of integer key\n",
    "\n",
    "mydict1={1:\"sunny\",2:\"rajat\",3:\"satish\"}"
   ]
  },
  {
   "cell_type": "code",
   "execution_count": 152,
   "id": "753a5361-57ec-4961-a09d-937a570e0e03",
   "metadata": {},
   "outputs": [
    {
     "data": {
      "text/plain": [
       "{1: 'sunny', 2: 'rajat', 3: 'satish'}"
      ]
     },
     "execution_count": 152,
     "metadata": {},
     "output_type": "execute_result"
    }
   ],
   "source": [
    "mydict1"
   ]
  },
  {
   "cell_type": "code",
   "execution_count": 153,
   "id": "c4c1d56d-1712-4302-b9b9-d3ac7f1d33e1",
   "metadata": {},
   "outputs": [],
   "source": [
    "mydict2={1:\"sunny\",\"a\":\"subham\"}"
   ]
  },
  {
   "cell_type": "code",
   "execution_count": 154,
   "id": "ffcfce02-b1b0-43b6-be6e-32d7e362f261",
   "metadata": {},
   "outputs": [
    {
     "data": {
      "text/plain": [
       "{1: 'sunny', 'a': 'subham'}"
      ]
     },
     "execution_count": 154,
     "metadata": {},
     "output_type": "execute_result"
    }
   ],
   "source": [
    "mydict2"
   ]
  },
  {
   "cell_type": "code",
   "execution_count": 156,
   "id": "5f1859b1-8958-4025-8bb8-893fe37534d1",
   "metadata": {},
   "outputs": [],
   "source": [
    "mydict3={\"rahul\":[\"c\",\"c++\"],\"rohit\":[\"java script\"],\"sunny\":[\"python\",\"machine learning\"]}"
   ]
  },
  {
   "cell_type": "code",
   "execution_count": 157,
   "id": "9cba751a-b09c-4bb7-9d4c-95e94458a2b4",
   "metadata": {},
   "outputs": [
    {
     "data": {
      "text/plain": [
       "{'rahul': ['c', 'c++'],\n",
       " 'rohit': ['java script'],\n",
       " 'sunny': ['python', 'machine learning']}"
      ]
     },
     "execution_count": 157,
     "metadata": {},
     "output_type": "execute_result"
    }
   ],
   "source": [
    "mydict3"
   ]
  },
  {
   "cell_type": "code",
   "execution_count": 158,
   "id": "aec3bb48-729b-4ffa-ba00-0dfd34766d17",
   "metadata": {},
   "outputs": [
    {
     "data": {
      "text/plain": [
       "['c', 'c++']"
      ]
     },
     "execution_count": 158,
     "metadata": {},
     "output_type": "execute_result"
    }
   ],
   "source": [
    "mydict3[\"rahul\"]"
   ]
  },
  {
   "cell_type": "code",
   "execution_count": 159,
   "id": "3873d908-538c-4ce5-a511-1ec2c990fb2e",
   "metadata": {},
   "outputs": [
    {
     "data": {
      "text/plain": [
       "['python', 'machine learning']"
      ]
     },
     "execution_count": 159,
     "metadata": {},
     "output_type": "execute_result"
    }
   ],
   "source": [
    "mydict3[\"sunny\"]"
   ]
  },
  {
   "cell_type": "code",
   "execution_count": 160,
   "id": "bbc0add4-ac82-4039-bcd5-2953d4a9d06b",
   "metadata": {},
   "outputs": [
    {
     "data": {
      "text/plain": [
       "['python', 'machine learning']"
      ]
     },
     "execution_count": 160,
     "metadata": {},
     "output_type": "execute_result"
    }
   ],
   "source": [
    "mydict3.get(\"sunny\")"
   ]
  },
  {
   "cell_type": "code",
   "execution_count": 161,
   "id": "0214f5af-d04d-42ea-989d-e7866d0343fe",
   "metadata": {},
   "outputs": [],
   "source": [
    "student_data={1:\"amit\",2:\"brajesh\",3:\"chetan\",4:\"deepak\",5:\"chirag\"}"
   ]
  },
  {
   "cell_type": "code",
   "execution_count": 162,
   "id": "614cf7ce-a7fa-4da4-8298-fce08b3a22ca",
   "metadata": {},
   "outputs": [
    {
     "data": {
      "text/plain": [
       "{1: 'amit', 2: 'brajesh', 3: 'chetan', 4: 'deepak', 5: 'chirag'}"
      ]
     },
     "execution_count": 162,
     "metadata": {},
     "output_type": "execute_result"
    }
   ],
   "source": [
    "student_data"
   ]
  },
  {
   "cell_type": "code",
   "execution_count": 166,
   "id": "13ec0b26-184f-4eea-bfdf-db2d1c9c9df1",
   "metadata": {},
   "outputs": [
    {
     "name": "stdout",
     "output_type": "stream",
     "text": [
      "my key is: 1\n",
      "my key is: 2\n",
      "my key is: 3\n",
      "my key is: 4\n",
      "my key is: 5\n"
     ]
    }
   ],
   "source": [
    "for i in student_data:\n",
    "    print(\"my key is:\",i)"
   ]
  },
  {
   "cell_type": "code",
   "execution_count": 167,
   "id": "651b3fd5-f869-4c11-950d-3d92d130f34d",
   "metadata": {},
   "outputs": [
    {
     "name": "stdout",
     "output_type": "stream",
     "text": [
      "my key is: 1\n",
      "my key is: 2\n",
      "my key is: 3\n",
      "my key is: 4\n",
      "my key is: 5\n"
     ]
    }
   ],
   "source": [
    "for i in student_data.keys():\n",
    "    print(\"my key is:\",i)"
   ]
  },
  {
   "cell_type": "code",
   "execution_count": 168,
   "id": "f5623160-96dd-4a97-af39-aeeb7b91d830",
   "metadata": {},
   "outputs": [
    {
     "name": "stdout",
     "output_type": "stream",
     "text": [
      "my values is: amit\n",
      "my values is: brajesh\n",
      "my values is: chetan\n",
      "my values is: deepak\n",
      "my values is: chirag\n"
     ]
    }
   ],
   "source": [
    "for i in student_data.values():\n",
    "    print(\"my values is:\",i)"
   ]
  },
  {
   "cell_type": "code",
   "execution_count": 165,
   "id": "4787c30c-ec41-4c09-ae43-ff328cec435b",
   "metadata": {},
   "outputs": [
    {
     "name": "stdout",
     "output_type": "stream",
     "text": [
      "(1, 'amit')\n",
      "(2, 'brajesh')\n",
      "(3, 'chetan')\n",
      "(4, 'deepak')\n",
      "(5, 'chirag')\n"
     ]
    }
   ],
   "source": [
    "for x in student_data.items():\n",
    "    print(x)"
   ]
  },
  {
   "cell_type": "code",
   "execution_count": 171,
   "id": "c7f82a05-8df7-40c1-b94e-cc8e3fc4f845",
   "metadata": {},
   "outputs": [
    {
     "ename": "SyntaxError",
     "evalue": "unterminated string literal (detected at line 2) (303308074.py, line 2)",
     "output_type": "error",
     "traceback": [
      "\u001b[0;36m  Cell \u001b[0;32mIn [171], line 2\u001b[0;36m\u001b[0m\n\u001b[0;31m    print(f\"my key is {x} my value is{y})\u001b[0m\n\u001b[0m          ^\u001b[0m\n\u001b[0;31mSyntaxError\u001b[0m\u001b[0;31m:\u001b[0m unterminated string literal (detected at line 2)\n"
     ]
    }
   ],
   "source": [
    "for x,y in student_data.items():\n",
    "    print(f\"my key is {x} my value is{y})"
   ]
  },
  {
   "cell_type": "code",
   "execution_count": 161,
   "id": "18ed4e60-1866-43e6-90a2-5aaa75816989",
   "metadata": {},
   "outputs": [],
   "source": [
    "student_data={1:\"amit\",2:\"brajesh\",3:\"chetan\",4:\"deepak\",5:\"chirag\"}"
   ]
  },
  {
   "cell_type": "code",
   "execution_count": 172,
   "id": "6b235e43-6725-4187-903f-948cfb5360ce",
   "metadata": {},
   "outputs": [
    {
     "ename": "SyntaxError",
     "evalue": "invalid syntax (2498183420.py, line 1)",
     "output_type": "error",
     "traceback": [
      "\u001b[0;36m  Cell \u001b[0;32mIn [172], line 1\u001b[0;36m\u001b[0m\n\u001b[0;31m    is we want to update any new key value pair in dict we use subscript operator or update function\u001b[0m\n\u001b[0m    ^\u001b[0m\n\u001b[0;31mSyntaxError\u001b[0m\u001b[0;31m:\u001b[0m invalid syntax\n"
     ]
    }
   ],
   "source": [
    "is we want to update any new key value pair in dict we use subscript operator or update function"
   ]
  },
  {
   "cell_type": "code",
   "execution_count": 173,
   "id": "efc817e8-5986-4da8-96b5-ecac28d612c8",
   "metadata": {},
   "outputs": [],
   "source": [
    "student_data[6]=\"sunny\""
   ]
  },
  {
   "cell_type": "code",
   "execution_count": 174,
   "id": "26a19155-70e9-43e1-91ae-22132dbc9d65",
   "metadata": {},
   "outputs": [
    {
     "data": {
      "text/plain": [
       "{1: 'amit', 2: 'brajesh', 3: 'chetan', 4: 'deepak', 5: 'chirag', 6: 'sunny'}"
      ]
     },
     "execution_count": 174,
     "metadata": {},
     "output_type": "execute_result"
    }
   ],
   "source": [
    "student_data"
   ]
  },
  {
   "cell_type": "code",
   "execution_count": 175,
   "id": "0d544426-5f27-4d7f-bfb6-8d25d4d4912c",
   "metadata": {},
   "outputs": [],
   "source": [
    "student_data.update({7:\"zoha\"})"
   ]
  },
  {
   "cell_type": "code",
   "execution_count": 176,
   "id": "20dee2b5-f997-40eb-9dd2-4d7ea9d06a5a",
   "metadata": {},
   "outputs": [
    {
     "data": {
      "text/plain": [
       "{1: 'amit',\n",
       " 2: 'brajesh',\n",
       " 3: 'chetan',\n",
       " 4: 'deepak',\n",
       " 5: 'chirag',\n",
       " 6: 'sunny',\n",
       " 7: 'zoha'}"
      ]
     },
     "execution_count": 176,
     "metadata": {},
     "output_type": "execute_result"
    }
   ],
   "source": [
    "student_data"
   ]
  },
  {
   "cell_type": "code",
   "execution_count": 177,
   "id": "b012b357-f734-4b79-b14c-d7bbc946af31",
   "metadata": {},
   "outputs": [],
   "source": [
    "student_data[2]=\"narendra modi\""
   ]
  },
  {
   "cell_type": "code",
   "execution_count": 178,
   "id": "2226b185-7c06-4bb6-9504-d43c5f861448",
   "metadata": {},
   "outputs": [
    {
     "data": {
      "text/plain": [
       "{1: 'amit',\n",
       " 2: 'narendra modi',\n",
       " 3: 'chetan',\n",
       " 4: 'deepak',\n",
       " 5: 'chirag',\n",
       " 6: 'sunny',\n",
       " 7: 'zoha'}"
      ]
     },
     "execution_count": 178,
     "metadata": {},
     "output_type": "execute_result"
    }
   ],
   "source": [
    "student_data"
   ]
  },
  {
   "cell_type": "markdown",
   "id": "d5d2e945-d230-450e-9744-9e8481875945",
   "metadata": {},
   "source": [
    "# if key is not available hen it will create new pair if it is available it will overwrite"
   ]
  },
  {
   "cell_type": "markdown",
   "id": "415edd24-d5c8-44e2-935e-4a9e9fbb81f6",
   "metadata": {},
   "source": [
    "# function for the dict"
   ]
  },
  {
   "cell_type": "code",
   "execution_count": null,
   "id": "07c21fc0-b2ca-4ead-8306-6cbb494161ff",
   "metadata": {},
   "outputs": [],
   "source": []
  },
  {
   "cell_type": "code",
   "execution_count": null,
   "id": "bdde1c9a-1c23-4eb1-a23c-3b9bd457052b",
   "metadata": {},
   "outputs": [],
   "source": []
  },
  {
   "cell_type": "code",
   "execution_count": null,
   "id": "9c1c36d4-67fb-444a-bd6c-c95a8be356a3",
   "metadata": {},
   "outputs": [],
   "source": []
  },
  {
   "cell_type": "code",
   "execution_count": null,
   "id": "5d5976a8-26b5-4155-bc62-87118c26af5d",
   "metadata": {},
   "outputs": [],
   "source": []
  },
  {
   "cell_type": "code",
   "execution_count": null,
   "id": "90060e5e-3a80-4d73-805c-f44b81d49728",
   "metadata": {},
   "outputs": [],
   "source": []
  },
  {
   "cell_type": "code",
   "execution_count": null,
   "id": "d7195078-7562-43bb-9c47-71bed7b5d531",
   "metadata": {},
   "outputs": [],
   "source": []
  },
  {
   "cell_type": "code",
   "execution_count": null,
   "id": "d222a992-5111-4030-9fd5-b063c107c97c",
   "metadata": {},
   "outputs": [],
   "source": []
  },
  {
   "cell_type": "code",
   "execution_count": null,
   "id": "c5d8bf75-44fc-4ec2-8840-8b968d50379a",
   "metadata": {},
   "outputs": [],
   "source": []
  },
  {
   "cell_type": "code",
   "execution_count": null,
   "id": "e9576619-b841-4856-8153-0a73efa8d5d4",
   "metadata": {},
   "outputs": [],
   "source": []
  },
  {
   "cell_type": "code",
   "execution_count": null,
   "id": "87d299d3-07b8-4a46-9af4-65358e5ed376",
   "metadata": {},
   "outputs": [],
   "source": []
  },
  {
   "cell_type": "code",
   "execution_count": null,
   "id": "81373d30-5c09-4f2d-a9d4-04a7c0b24d07",
   "metadata": {},
   "outputs": [],
   "source": []
  },
  {
   "cell_type": "code",
   "execution_count": null,
   "id": "f76937f7-13ff-4d41-ace4-00f953891820",
   "metadata": {},
   "outputs": [],
   "source": []
  },
  {
   "cell_type": "code",
   "execution_count": null,
   "id": "113f47de-508e-4c94-9bd6-b4cfd3080fa3",
   "metadata": {},
   "outputs": [],
   "source": []
  },
  {
   "cell_type": "code",
   "execution_count": null,
   "id": "416e0a3a-8c69-4afb-b568-308705bffd16",
   "metadata": {},
   "outputs": [],
   "source": []
  },
  {
   "cell_type": "code",
   "execution_count": null,
   "id": "36d9edc8-5d5b-4ea6-9ec7-25fd1a7a1ae3",
   "metadata": {},
   "outputs": [],
   "source": []
  },
  {
   "cell_type": "code",
   "execution_count": null,
   "id": "41015c16-0e53-4bbd-b2f2-6dd8c9225b31",
   "metadata": {},
   "outputs": [],
   "source": []
  },
  {
   "cell_type": "code",
   "execution_count": null,
   "id": "aed0e649-7673-4d7b-a4b9-8e79c18573db",
   "metadata": {},
   "outputs": [],
   "source": []
  },
  {
   "cell_type": "code",
   "execution_count": null,
   "id": "8739eb2c-b8ee-4d3a-a5b7-eb8a08cbdc0f",
   "metadata": {},
   "outputs": [],
   "source": []
  },
  {
   "cell_type": "code",
   "execution_count": null,
   "id": "d471768f-b75d-4f19-80af-d7fb07d64943",
   "metadata": {},
   "outputs": [],
   "source": []
  },
  {
   "cell_type": "code",
   "execution_count": null,
   "id": "664faa8c-f529-4e24-911a-2c9c23d87f4f",
   "metadata": {},
   "outputs": [],
   "source": []
  },
  {
   "cell_type": "code",
   "execution_count": null,
   "id": "8d36a879-bb80-4a1c-bed9-7e9e819ab01f",
   "metadata": {},
   "outputs": [],
   "source": []
  },
  {
   "cell_type": "code",
   "execution_count": null,
   "id": "b80e0d31-88f3-42e1-972d-40328d729dab",
   "metadata": {},
   "outputs": [],
   "source": []
  },
  {
   "cell_type": "code",
   "execution_count": null,
   "id": "8400dce9-be94-43eb-ab74-4fd521877df7",
   "metadata": {},
   "outputs": [],
   "source": []
  },
  {
   "cell_type": "code",
   "execution_count": null,
   "id": "1ce35341-40c2-4332-a43e-94c11064f972",
   "metadata": {},
   "outputs": [],
   "source": []
  },
  {
   "cell_type": "code",
   "execution_count": null,
   "id": "ddc89ad5-ecf4-4cc5-b0eb-7c5f298d9fb0",
   "metadata": {},
   "outputs": [],
   "source": []
  },
  {
   "cell_type": "code",
   "execution_count": null,
   "id": "6b4cb05f-4830-4265-bcd7-e88c5b59f304",
   "metadata": {},
   "outputs": [],
   "source": []
  },
  {
   "cell_type": "code",
   "execution_count": null,
   "id": "6ebba87d-5d9a-497d-a798-8b3bd6466119",
   "metadata": {},
   "outputs": [],
   "source": []
  },
  {
   "cell_type": "code",
   "execution_count": null,
   "id": "b5587629-fa40-4d35-a710-82e9de9caa85",
   "metadata": {},
   "outputs": [],
   "source": []
  },
  {
   "cell_type": "code",
   "execution_count": null,
   "id": "3f14a0ce-a6e4-4676-926c-43c8ac4710ce",
   "metadata": {},
   "outputs": [],
   "source": []
  },
  {
   "cell_type": "code",
   "execution_count": null,
   "id": "e1e75d69-93c1-4fe9-949e-34f5ac4c76ba",
   "metadata": {},
   "outputs": [],
   "source": []
  },
  {
   "cell_type": "code",
   "execution_count": null,
   "id": "ec7013d9-f329-4f9f-b754-3af219a8305a",
   "metadata": {},
   "outputs": [],
   "source": []
  },
  {
   "cell_type": "code",
   "execution_count": null,
   "id": "ef9df550-14a4-4826-b051-a9d583221777",
   "metadata": {},
   "outputs": [],
   "source": []
  },
  {
   "cell_type": "code",
   "execution_count": null,
   "id": "d2e69afd-8118-4d0c-a3c5-bc82fa703cd3",
   "metadata": {},
   "outputs": [],
   "source": []
  },
  {
   "cell_type": "code",
   "execution_count": null,
   "id": "ce875bf9-2d14-4c36-86b4-784248aaf757",
   "metadata": {},
   "outputs": [],
   "source": []
  },
  {
   "cell_type": "code",
   "execution_count": null,
   "id": "bac95f99-bb05-4150-b091-79470816125a",
   "metadata": {},
   "outputs": [],
   "source": []
  },
  {
   "cell_type": "code",
   "execution_count": null,
   "id": "d4ce01f8-8cb4-4b93-ad12-6f3afb78ad1f",
   "metadata": {},
   "outputs": [],
   "source": []
  },
  {
   "cell_type": "code",
   "execution_count": null,
   "id": "82cc9415-e86e-4328-b1d2-a869886b91d7",
   "metadata": {},
   "outputs": [],
   "source": []
  },
  {
   "cell_type": "code",
   "execution_count": null,
   "id": "2737fad8-39a1-4a06-9dcb-8f62b0b77123",
   "metadata": {},
   "outputs": [],
   "source": []
  },
  {
   "cell_type": "code",
   "execution_count": null,
   "id": "6aa8e3d9-a065-4da1-9e84-3fc3e0f44b0b",
   "metadata": {},
   "outputs": [],
   "source": []
  },
  {
   "cell_type": "code",
   "execution_count": null,
   "id": "6ff7276a-1f91-4d13-9bfd-fbc782fde5c5",
   "metadata": {},
   "outputs": [],
   "source": []
  },
  {
   "cell_type": "code",
   "execution_count": null,
   "id": "52cf39f5-7d4f-4576-8e52-46410b1e9138",
   "metadata": {},
   "outputs": [],
   "source": []
  },
  {
   "cell_type": "code",
   "execution_count": null,
   "id": "23e36cea-35a3-4471-8071-36ba798e21e1",
   "metadata": {},
   "outputs": [],
   "source": []
  },
  {
   "cell_type": "code",
   "execution_count": null,
   "id": "12ff121a-75de-4b08-8765-e7f5fb91e547",
   "metadata": {},
   "outputs": [],
   "source": []
  },
  {
   "cell_type": "code",
   "execution_count": null,
   "id": "3bcf3322-ec82-4854-a4dd-994c3eda059d",
   "metadata": {},
   "outputs": [],
   "source": []
  },
  {
   "cell_type": "code",
   "execution_count": null,
   "id": "a9866178-b395-4b01-91bf-e7b4a519b5c2",
   "metadata": {},
   "outputs": [],
   "source": []
  },
  {
   "cell_type": "code",
   "execution_count": null,
   "id": "a09b4e2e-e292-49ce-8706-f0bb03a576ab",
   "metadata": {},
   "outputs": [],
   "source": []
  },
  {
   "cell_type": "code",
   "execution_count": null,
   "id": "cedf4dab-e376-4aca-a0ac-2bd08c1bc15c",
   "metadata": {},
   "outputs": [],
   "source": []
  },
  {
   "cell_type": "code",
   "execution_count": null,
   "id": "49ab83dd-b1eb-4e10-b323-de88f94c8d66",
   "metadata": {},
   "outputs": [],
   "source": []
  },
  {
   "cell_type": "code",
   "execution_count": null,
   "id": "35ee4dd6-95d5-4ad3-bbe8-bc440b543327",
   "metadata": {},
   "outputs": [],
   "source": []
  },
  {
   "cell_type": "code",
   "execution_count": null,
   "id": "82e8fb53-b30e-4e6b-8548-695567a175b8",
   "metadata": {},
   "outputs": [],
   "source": []
  },
  {
   "cell_type": "code",
   "execution_count": null,
   "id": "df1ad751-3873-4148-bc6c-8d1518189d7e",
   "metadata": {},
   "outputs": [],
   "source": []
  },
  {
   "cell_type": "markdown",
   "id": "a7c179cb-fff7-4f20-afd4-ff40d0fcbda5",
   "metadata": {},
   "source": [
    "# methods in dict"
   ]
  },
  {
   "cell_type": "markdown",
   "id": "19a78350-8a28-4153-9784-5b514cf18925",
   "metadata": {},
   "source": [
    "clear()\n",
    "\n",
    "copy()\n",
    "\n",
    "setdefault()\n",
    "\n",
    "\n",
    "\n",
    "get()done\n",
    "\n",
    "keys()done\n",
    "\n",
    "values()done\n",
    "\n",
    "items()done\n",
    "\n",
    "updated()done\n",
    "\n",
    "pop()\n",
    "\n",
    "popitems()\n",
    "\n"
   ]
  },
  {
   "cell_type": "code",
   "execution_count": 185,
   "id": "0a44a888-8ee8-46eb-8631-9b795810c749",
   "metadata": {},
   "outputs": [],
   "source": [
    "sixMonths = {\"Jan\":31, \"Feb\":28, \"Mar\":31, \"Apr\":30, \"May\":31, \"Jun\":30}"
   ]
  },
  {
   "cell_type": "code",
   "execution_count": 186,
   "id": "70b73e2e-9fb8-46de-897c-2d13939ddb10",
   "metadata": {},
   "outputs": [
    {
     "data": {
      "text/plain": [
       "31"
      ]
     },
     "execution_count": 186,
     "metadata": {},
     "output_type": "execute_result"
    }
   ],
   "source": [
    "sixMonths.pop(\"Jan\")"
   ]
  },
  {
   "cell_type": "code",
   "execution_count": 187,
   "id": "d4b1edc3-3299-4f57-ac1f-828dd7fbce25",
   "metadata": {},
   "outputs": [
    {
     "ename": "KeyError",
     "evalue": "'nov'",
     "output_type": "error",
     "traceback": [
      "\u001b[0;31m---------------------------------------------------------------------------\u001b[0m",
      "\u001b[0;31mKeyError\u001b[0m                                  Traceback (most recent call last)",
      "Cell \u001b[0;32mIn [187], line 1\u001b[0m\n\u001b[0;32m----> 1\u001b[0m \u001b[43msixMonths\u001b[49m\u001b[38;5;241;43m.\u001b[39;49m\u001b[43mpop\u001b[49m\u001b[43m(\u001b[49m\u001b[38;5;124;43m\"\u001b[39;49m\u001b[38;5;124;43mnov\u001b[39;49m\u001b[38;5;124;43m\"\u001b[39;49m\u001b[43m)\u001b[49m\n",
      "\u001b[0;31mKeyError\u001b[0m: 'nov'"
     ]
    }
   ],
   "source": [
    "sixMonths.pop(\"nov\")"
   ]
  },
  {
   "cell_type": "code",
   "execution_count": 188,
   "id": "6cd23496-e449-4268-bca4-587c7f89bd81",
   "metadata": {},
   "outputs": [
    {
     "data": {
      "text/plain": [
       "28"
      ]
     },
     "execution_count": 188,
     "metadata": {},
     "output_type": "execute_result"
    }
   ],
   "source": [
    "sixMonths.pop(\"Feb\",\"not found\")"
   ]
  },
  {
   "cell_type": "code",
   "execution_count": 189,
   "id": "7016302d-bc4e-4497-a046-c08db4e2df92",
   "metadata": {},
   "outputs": [
    {
     "data": {
      "text/plain": [
       "{'Mar': 31, 'Apr': 30, 'May': 31, 'Jun': 30}"
      ]
     },
     "execution_count": 189,
     "metadata": {},
     "output_type": "execute_result"
    }
   ],
   "source": [
    "sixMonths"
   ]
  },
  {
   "cell_type": "code",
   "execution_count": 190,
   "id": "74f4fcce-8249-4295-84ca-91ab443a6191",
   "metadata": {},
   "outputs": [
    {
     "data": {
      "text/plain": [
       "'not found'"
      ]
     },
     "execution_count": 190,
     "metadata": {},
     "output_type": "execute_result"
    }
   ],
   "source": [
    "sixMonths.pop(\"oct\",\"not found\")"
   ]
  },
  {
   "cell_type": "code",
   "execution_count": 191,
   "id": "f13c3e2d-1bfa-4ebe-902b-2fd32aa970ab",
   "metadata": {},
   "outputs": [
    {
     "data": {
      "text/plain": [
       "{'Mar': 31, 'Apr': 30, 'May': 31, 'Jun': 30}"
      ]
     },
     "execution_count": 191,
     "metadata": {},
     "output_type": "execute_result"
    }
   ],
   "source": [
    "sixMonths"
   ]
  },
  {
   "cell_type": "code",
   "execution_count": 192,
   "id": "8944b2b0-aef0-4a1f-96a3-0a475ce542dc",
   "metadata": {},
   "outputs": [
    {
     "data": {
      "text/plain": [
       "('Jun', 30)"
      ]
     },
     "execution_count": 192,
     "metadata": {},
     "output_type": "execute_result"
    }
   ],
   "source": [
    "sixMonths.popitem()"
   ]
  },
  {
   "cell_type": "code",
   "execution_count": 193,
   "id": "f32a06f2-d595-4a14-9e25-e70ef0a3876b",
   "metadata": {},
   "outputs": [
    {
     "data": {
      "text/plain": [
       "{'Mar': 31, 'Apr': 30, 'May': 31}"
      ]
     },
     "execution_count": 193,
     "metadata": {},
     "output_type": "execute_result"
    }
   ],
   "source": [
    "sixMonths"
   ]
  },
  {
   "cell_type": "code",
   "execution_count": 194,
   "id": "6d392c53-da06-4509-a83b-c36b4076fe80",
   "metadata": {},
   "outputs": [
    {
     "data": {
      "text/plain": [
       "('May', 31)"
      ]
     },
     "execution_count": 194,
     "metadata": {},
     "output_type": "execute_result"
    }
   ],
   "source": [
    "sixMonths.popitem()"
   ]
  },
  {
   "cell_type": "code",
   "execution_count": 195,
   "id": "c81d84d2-615d-46c1-8b39-c7e8b4cabfd2",
   "metadata": {},
   "outputs": [
    {
     "data": {
      "text/plain": [
       "{'Mar': 31, 'Apr': 30}"
      ]
     },
     "execution_count": 195,
     "metadata": {},
     "output_type": "execute_result"
    }
   ],
   "source": [
    "sixMonths"
   ]
  },
  {
   "cell_type": "markdown",
   "id": "d7cb79e3-b771-4754-89f4-fca07f889be7",
   "metadata": {},
   "source": [
    "pop and pop item is clear"
   ]
  },
  {
   "cell_type": "code",
   "execution_count": 185,
   "id": "7cd7aee1-0925-42fe-84f6-6061e826a2e2",
   "metadata": {},
   "outputs": [],
   "source": [
    "sixMonths = {\"Jan\":31, \"Feb\":28, \"Mar\":31, \"Apr\":30, \"May\":31, \"Jun\":30}"
   ]
  },
  {
   "cell_type": "code",
   "execution_count": 196,
   "id": "9b7de7ed-78c0-407e-a66c-11071a0b4963",
   "metadata": {},
   "outputs": [],
   "source": [
    "sixMonths.clear()"
   ]
  },
  {
   "cell_type": "code",
   "execution_count": 197,
   "id": "30813197-d1d4-4bde-93c0-bb956670d79e",
   "metadata": {},
   "outputs": [
    {
     "data": {
      "text/plain": [
       "{}"
      ]
     },
     "execution_count": 197,
     "metadata": {},
     "output_type": "execute_result"
    }
   ],
   "source": [
    "sixMonths"
   ]
  },
  {
   "cell_type": "code",
   "execution_count": 198,
   "id": "a7c7a1ea-d9e6-46a6-92b7-60c62d7fa0aa",
   "metadata": {},
   "outputs": [],
   "source": [
    "original={1:\"one\",2:\"two\",3:\"three\",}"
   ]
  },
  {
   "cell_type": "code",
   "execution_count": 201,
   "id": "2c722c87-2aee-4d4c-91ab-df887adbf9d1",
   "metadata": {},
   "outputs": [],
   "source": [
    "new=original.copy()"
   ]
  },
  {
   "cell_type": "code",
   "execution_count": 202,
   "id": "6af15c60-2013-44ad-94e5-f82b7029fe70",
   "metadata": {},
   "outputs": [
    {
     "data": {
      "text/plain": [
       "{1: 'one', 2: 'two', 3: 'three'}"
      ]
     },
     "execution_count": 202,
     "metadata": {},
     "output_type": "execute_result"
    }
   ],
   "source": [
    "new"
   ]
  },
  {
   "cell_type": "code",
   "execution_count": null,
   "id": "b3723b11-93ca-44c0-ac35-94bea90e5e17",
   "metadata": {},
   "outputs": [],
   "source": []
  },
  {
   "cell_type": "code",
   "execution_count": 203,
   "id": "743f9407-a361-43f9-a010-2a42df5c321b",
   "metadata": {},
   "outputs": [],
   "source": [
    "cars={\"maruti\":\"ciaz\",\"hyundai\":\"verna\",\"honda\":\"amaze\"}"
   ]
  },
  {
   "cell_type": "code",
   "execution_count": 204,
   "id": "0497ea1a-0c48-4d03-b2c6-a4f599c7a728",
   "metadata": {},
   "outputs": [],
   "source": [
    "value=cars.setdefault(\"hyundai\")"
   ]
  },
  {
   "cell_type": "code",
   "execution_count": 205,
   "id": "871ff8c2-19a3-4e09-8f02-b03eea2d9cc9",
   "metadata": {},
   "outputs": [
    {
     "data": {
      "text/plain": [
       "'verna'"
      ]
     },
     "execution_count": 205,
     "metadata": {},
     "output_type": "execute_result"
    }
   ],
   "source": [
    "value"
   ]
  },
  {
   "cell_type": "code",
   "execution_count": 206,
   "id": "ddb97b01-050a-4a3d-b15a-0c8f0cf1e31e",
   "metadata": {},
   "outputs": [],
   "source": [
    "value=cars.setdefault(\"hyundai\",\"i20\")"
   ]
  },
  {
   "cell_type": "code",
   "execution_count": 207,
   "id": "b24dacbb-5d0f-4fe5-9287-72a6934f7f28",
   "metadata": {},
   "outputs": [
    {
     "data": {
      "text/plain": [
       "'verna'"
      ]
     },
     "execution_count": 207,
     "metadata": {},
     "output_type": "execute_result"
    }
   ],
   "source": [
    "value"
   ]
  },
  {
   "cell_type": "code",
   "execution_count": 208,
   "id": "b63b511a-2593-42e9-ba07-9acc1fc38957",
   "metadata": {},
   "outputs": [],
   "source": [
    "value=cars.setdefault(\"renault\")"
   ]
  },
  {
   "cell_type": "code",
   "execution_count": 209,
   "id": "c97ddb79-9624-492d-a363-3ed09df4d880",
   "metadata": {},
   "outputs": [],
   "source": [
    "value"
   ]
  },
  {
   "cell_type": "code",
   "execution_count": 210,
   "id": "57f2d8a8-f3f2-46e6-8e58-ed0602f73c9b",
   "metadata": {},
   "outputs": [
    {
     "data": {
      "text/plain": [
       "{'maruti': 'ciaz', 'hyundai': 'verna', 'honda': 'amaze', 'renault': None}"
      ]
     },
     "execution_count": 210,
     "metadata": {},
     "output_type": "execute_result"
    }
   ],
   "source": [
    "cars"
   ]
  },
  {
   "cell_type": "code",
   "execution_count": 214,
   "id": "b3e0a555-82a9-468c-8b13-765cab6a0920",
   "metadata": {},
   "outputs": [
    {
     "ename": "SyntaxError",
     "evalue": "invalid syntax (2702287449.py, line 1)",
     "output_type": "error",
     "traceback": [
      "\u001b[0;36m  Cell \u001b[0;32mIn [214], line 1\u001b[0;36m\u001b[0m\n\u001b[0;31m    value=cars.setdefault(\"renault\":\"duster\")\u001b[0m\n\u001b[0m                                   ^\u001b[0m\n\u001b[0;31mSyntaxError\u001b[0m\u001b[0;31m:\u001b[0m invalid syntax\n"
     ]
    }
   ],
   "source": [
    "value=cars.setdefault(\"renault\",\"duster\")"
   ]
  },
  {
   "cell_type": "code",
   "execution_count": 215,
   "id": "dda5783c-98d1-4fce-a82e-b5e535a06176",
   "metadata": {},
   "outputs": [],
   "source": [
    "cars[\"renault\"]=\"duster\""
   ]
  },
  {
   "cell_type": "code",
   "execution_count": 216,
   "id": "f5b1aa70-851a-4208-85c8-4d5641fba4d8",
   "metadata": {},
   "outputs": [
    {
     "data": {
      "text/plain": [
       "{'maruti': 'ciaz', 'hyundai': 'verna', 'honda': 'amaze', 'renault': 'duster'}"
      ]
     },
     "execution_count": 216,
     "metadata": {},
     "output_type": "execute_result"
    }
   ],
   "source": [
    "cars\n"
   ]
  },
  {
   "cell_type": "code",
   "execution_count": 217,
   "id": "19b86a4b-add0-4f07-8e7a-549f41a1fe85",
   "metadata": {},
   "outputs": [],
   "source": [
    "value=cars.setdefault(\"audi\",\"q7\")"
   ]
  },
  {
   "cell_type": "code",
   "execution_count": 218,
   "id": "12fc94d1-19c0-4931-bb04-7bf961dea1ab",
   "metadata": {},
   "outputs": [
    {
     "data": {
      "text/plain": [
       "'q7'"
      ]
     },
     "execution_count": 218,
     "metadata": {},
     "output_type": "execute_result"
    }
   ],
   "source": [
    "value"
   ]
  },
  {
   "cell_type": "code",
   "execution_count": 219,
   "id": "a9f1a6b9-df30-484f-978c-78ae4143ba6f",
   "metadata": {},
   "outputs": [
    {
     "data": {
      "text/plain": [
       "{'maruti': 'ciaz',\n",
       " 'hyundai': 'verna',\n",
       " 'honda': 'amaze',\n",
       " 'renault': 'duster',\n",
       " 'audi': 'q7'}"
      ]
     },
     "execution_count": 219,
     "metadata": {},
     "output_type": "execute_result"
    }
   ],
   "source": [
    "cars"
   ]
  },
  {
   "cell_type": "code",
   "execution_count": 220,
   "id": "1d6dafbc-78e5-425b-b8be-5b4ef33e2cbe",
   "metadata": {},
   "outputs": [],
   "source": [
    "cars.setdefault(\"mahindra\")"
   ]
  },
  {
   "cell_type": "code",
   "execution_count": 221,
   "id": "f75135ea-5f92-4b4e-ad53-ab083f42f428",
   "metadata": {},
   "outputs": [
    {
     "data": {
      "text/plain": [
       "{'maruti': 'ciaz',\n",
       " 'hyundai': 'verna',\n",
       " 'honda': 'amaze',\n",
       " 'renault': 'duster',\n",
       " 'audi': 'q7',\n",
       " 'mahindra': None}"
      ]
     },
     "execution_count": 221,
     "metadata": {},
     "output_type": "execute_result"
    }
   ],
   "source": [
    "cars"
   ]
  },
  {
   "cell_type": "code",
   "execution_count": 222,
   "id": "ddd815f8-0d43-4aca-acfd-b6cd86b15ce3",
   "metadata": {},
   "outputs": [],
   "source": [
    "value=cars.setdefault(\"mahindra\")"
   ]
  },
  {
   "cell_type": "code",
   "execution_count": 223,
   "id": "cfd0cf34-27b4-4ce4-99b4-8820471996d5",
   "metadata": {},
   "outputs": [],
   "source": [
    "value"
   ]
  },
  {
   "cell_type": "code",
   "execution_count": 224,
   "id": "4bb46288-a787-45fa-a0a9-21f94e384cda",
   "metadata": {},
   "outputs": [],
   "source": [
    "value=cars.setdefault(\"mahindra\",\"thar\")"
   ]
  },
  {
   "cell_type": "code",
   "execution_count": 225,
   "id": "bfc0585c-d0dd-447d-9a7d-cf2aa0c3335e",
   "metadata": {},
   "outputs": [],
   "source": [
    "value"
   ]
  },
  {
   "cell_type": "code",
   "execution_count": null,
   "id": "49158867-a360-4ce9-9d21-b55756c4747c",
   "metadata": {},
   "outputs": [],
   "source": []
  },
  {
   "cell_type": "markdown",
   "id": "8df807c8-f019-44dd-a40a-a5a2d0449e10",
   "metadata": {},
   "source": [
    "# kwargs"
   ]
  },
  {
   "cell_type": "code",
   "execution_count": null,
   "id": "8332d4dd-0857-4816-a174-6598511acbe8",
   "metadata": {},
   "outputs": [],
   "source": []
  }
 ],
 "metadata": {
  "kernelspec": {
   "display_name": "Python 3 (ipykernel)",
   "language": "python",
   "name": "python3"
  },
  "language_info": {
   "codemirror_mode": {
    "name": "ipython",
    "version": 3
   },
   "file_extension": ".py",
   "mimetype": "text/x-python",
   "name": "python",
   "nbconvert_exporter": "python",
   "pygments_lexer": "ipython3",
   "version": "3.10.6"
  }
 },
 "nbformat": 4,
 "nbformat_minor": 5
}
