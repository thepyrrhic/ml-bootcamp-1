{
 "cells": [
  {
   "cell_type": "code",
   "execution_count": 2,
   "id": "a4941fc3-c8a4-49ae-b216-f3fb89d5a274",
   "metadata": {},
   "outputs": [],
   "source": [
    "def test():\n",
    "    pass "
   ]
  },
  {
   "cell_type": "code",
   "execution_count": 3,
   "id": "6d18b418-e1a0-4d02-87f5-8f1fab934754",
   "metadata": {},
   "outputs": [],
   "source": [
    "test()"
   ]
  },
  {
   "cell_type": "code",
   "execution_count": null,
   "id": "5f7e537c-862f-4708-ba86-7e7a4143aea6",
   "metadata": {},
   "outputs": [],
   "source": [
    "1. positional argument\n",
    "2. default argument\n",
    "3. keyword argument\n",
    "4. variable lenght argument"
   ]
  },
  {
   "cell_type": "code",
   "execution_count": 4,
   "id": "93d1f0cc-7cd8-458b-a28a-5582fb360293",
   "metadata": {},
   "outputs": [
    {
     "name": "stdout",
     "output_type": "stream",
     "text": [
      "i love python\n"
     ]
    }
   ],
   "source": [
    "s=\"i love python\"\n",
    "def f():\n",
    "    print(s)\n",
    "f()    "
   ]
  },
  {
   "cell_type": "code",
   "execution_count": 6,
   "id": "2f37837a-b676-4770-8fb2-5f5dc3bfcea3",
   "metadata": {},
   "outputs": [
    {
     "ename": "IndentationError",
     "evalue": "expected an indented block after function definition on line 2 (3295705162.py, line 3)",
     "output_type": "error",
     "traceback": [
      "\u001b[0;36m  Cell \u001b[0;32mIn [6], line 3\u001b[0;36m\u001b[0m\n\u001b[0;31m    print(s)\u001b[0m\n\u001b[0m    ^\u001b[0m\n\u001b[0;31mIndentationError\u001b[0m\u001b[0;31m:\u001b[0m expected an indented block after function definition on line 2\n"
     ]
    }
   ],
   "source": [
    "s=\"i love python\"\n",
    "def f():\n",
    "print(s)"
   ]
  },
  {
   "cell_type": "code",
   "execution_count": 7,
   "id": "16f24c3a-488a-4f15-920c-70a6a2eb8f86",
   "metadata": {},
   "outputs": [
    {
     "name": "stdout",
     "output_type": "stream",
     "text": [
      "i love python\n"
     ]
    }
   ],
   "source": [
    "def f():\n",
    "    print(s)\n",
    "s=\"i love python\"    \n",
    "f()"
   ]
  },
  {
   "cell_type": "code",
   "execution_count": 8,
   "id": "b40008d4-ba26-4fc3-bdf5-b173a2fbaaab",
   "metadata": {},
   "outputs": [
    {
     "ename": "NameError",
     "evalue": "name 'y' is not defined",
     "output_type": "error",
     "traceback": [
      "\u001b[0;31m---------------------------------------------------------------------------\u001b[0m",
      "\u001b[0;31mNameError\u001b[0m                                 Traceback (most recent call last)",
      "Cell \u001b[0;32mIn [8], line 3\u001b[0m\n\u001b[1;32m      1\u001b[0m \u001b[38;5;28;01mdef\u001b[39;00m \u001b[38;5;21mf\u001b[39m():\n\u001b[1;32m      2\u001b[0m     \u001b[38;5;28mprint\u001b[39m(y)\n\u001b[0;32m----> 3\u001b[0m \u001b[43mf\u001b[49m\u001b[43m(\u001b[49m\u001b[43m)\u001b[49m\n\u001b[1;32m      4\u001b[0m x\u001b[38;5;241m=\u001b[39m\u001b[38;5;124m\"\u001b[39m\u001b[38;5;124mi love python\u001b[39m\u001b[38;5;124m\"\u001b[39m\n",
      "Cell \u001b[0;32mIn [8], line 2\u001b[0m, in \u001b[0;36mf\u001b[0;34m()\u001b[0m\n\u001b[1;32m      1\u001b[0m \u001b[38;5;28;01mdef\u001b[39;00m \u001b[38;5;21mf\u001b[39m():\n\u001b[0;32m----> 2\u001b[0m     \u001b[38;5;28mprint\u001b[39m(\u001b[43my\u001b[49m)\n",
      "\u001b[0;31mNameError\u001b[0m: name 'y' is not defined"
     ]
    }
   ],
   "source": [
    "def f():\n",
    "    print(y)\n",
    "f()\n",
    "x=\"i love python\""
   ]
  },
  {
   "cell_type": "code",
   "execution_count": 10,
   "id": "778fd0a9-89ed-4f4f-95d8-84976fbaabfa",
   "metadata": {},
   "outputs": [
    {
     "name": "stdout",
     "output_type": "stream",
     "text": [
      "sunny\n"
     ]
    }
   ],
   "source": [
    "def test():\n",
    "    myname=\"sunny\"\n",
    "    print(myname)\n",
    "test()    "
   ]
  },
  {
   "cell_type": "markdown",
   "id": "3999a00b-31d1-4204-a5c2-3ac3bcea4458",
   "metadata": {},
   "source": [
    "# local variable : it is a variable which we are defining in the function and the scope will be in the function only\n",
    "# global variable: which we are defining outside of the function and the scope will be global"
   ]
  },
  {
   "cell_type": "code",
   "execution_count": 12,
   "id": "b0a24dd9-7326-4b16-a303-174624b491ca",
   "metadata": {},
   "outputs": [
    {
     "name": "stdout",
     "output_type": "stream",
     "text": [
      "5\n"
     ]
    }
   ],
   "source": [
    "# lambda fuction\n",
    "\n",
    "print((lambda a,b:a+b)(2,3))"
   ]
  },
  {
   "cell_type": "code",
   "execution_count": 13,
   "id": "0a9a5f40-59b2-4b7a-b3c1-58cff7815dfa",
   "metadata": {},
   "outputs": [],
   "source": [
    "mylambdafunction=lambda a,b:a+b"
   ]
  },
  {
   "cell_type": "markdown",
   "id": "258f7059-a192-4d9f-91d0-e4f85ea2c037",
   "metadata": {},
   "source": [
    "mylambdafunction(10,15)"
   ]
  },
  {
   "cell_type": "code",
   "execution_count": 15,
   "id": "2d3dc9de-1c23-4aed-808e-e67731cbfb1d",
   "metadata": {},
   "outputs": [
    {
     "data": {
      "text/plain": [
       "function"
      ]
     },
     "execution_count": 15,
     "metadata": {},
     "output_type": "execute_result"
    }
   ],
   "source": [
    "type(mylambdafunction)"
   ]
  },
  {
   "cell_type": "code",
   "execution_count": 16,
   "id": "775f098f-4efd-42dd-9fba-fd0d901605bd",
   "metadata": {},
   "outputs": [
    {
     "name": "stdout",
     "output_type": "stream",
     "text": [
      "<function <lambda> at 0x7f950a06ed40>\n"
     ]
    }
   ],
   "source": [
    "print(mylambdafunction)"
   ]
  },
  {
   "cell_type": "markdown",
   "id": "38b4327c-fd9b-4ffa-829e-a282b262accb",
   "metadata": {},
   "source": [
    "# wap to take two values from the user and fid a square of these values and use lambda function for this operation"
   ]
  },
  {
   "cell_type": "code",
   "execution_count": 17,
   "id": "9fa33d9d-6b32-4596-906b-14d1d7bd019f",
   "metadata": {},
   "outputs": [
    {
     "name": "stdin",
     "output_type": "stream",
     "text": [
      "enter first number 10\n",
      "enter second number 20\n"
     ]
    },
    {
     "data": {
      "text/plain": [
       "(100, 400)"
      ]
     },
     "execution_count": 17,
     "metadata": {},
     "output_type": "execute_result"
    }
   ],
   "source": [
    "a=int(input(\"enter first number\"))\n",
    "b=int(input(\"enter second number\"))\n",
    "squre=lambda a,b:(a**2,b**2)\n",
    "squre(a,b)"
   ]
  },
  {
   "cell_type": "markdown",
   "id": "ac166ac5-5ca4-4cd9-9018-519c9ad2a822",
   "metadata": {},
   "source": [
    "# write a lambda function that returns the first character of the string passed to it as a argument"
   ]
  },
  {
   "cell_type": "code",
   "execution_count": 23,
   "id": "250f8ab2-f697-47fa-9529-b0fc1e23efa1",
   "metadata": {},
   "outputs": [
    {
     "name": "stdin",
     "output_type": "stream",
     "text": [
      "enter the name pooja\n"
     ]
    },
    {
     "name": "stdout",
     "output_type": "stream",
     "text": [
      "pooja\n",
      "p\n"
     ]
    }
   ],
   "source": [
    "mystring=input(\"enter the name\")\n",
    "print(mystring)\n",
    "print ((lambda string:string[0])(mystring))"
   ]
  },
  {
   "cell_type": "code",
   "execution_count": 24,
   "id": "c1a1c9ec-c606-438c-8f5e-6b981498b55a",
   "metadata": {},
   "outputs": [
    {
     "name": "stdin",
     "output_type": "stream",
     "text": [
      "enter the name pooja\n"
     ]
    },
    {
     "name": "stdout",
     "output_type": "stream",
     "text": [
      "pooja\n",
      "a\n"
     ]
    }
   ],
   "source": [
    "mystring=input(\"enter the name\")\n",
    "print(mystring)\n",
    "print ((lambda string:string[-1])(mystring))"
   ]
  },
  {
   "cell_type": "markdown",
   "id": "4495e9b5-7981-4b6a-8186-fdabfd28a047",
   "metadata": {},
   "source": [
    "# write a lambda function that returns true or false depending on weather  the number passed to  it as an argument is even or odd"
   ]
  },
  {
   "cell_type": "code",
   "execution_count": 25,
   "id": "24b9758d-385b-4d6c-be03-a7d57759c110",
   "metadata": {},
   "outputs": [],
   "source": [
    "def evenorodd(n):\n",
    "    if n%2==0:\n",
    "        print(\"number is even\")\n",
    "    else:\n",
    "        print(\"number is odd\")"
   ]
  },
  {
   "cell_type": "code",
   "execution_count": 26,
   "id": "f6967b6d-17a5-4721-bbc5-36c2dbe710bb",
   "metadata": {},
   "outputs": [
    {
     "name": "stdout",
     "output_type": "stream",
     "text": [
      "number is odd\n"
     ]
    }
   ],
   "source": [
    "evenorodd(11)"
   ]
  },
  {
   "cell_type": "code",
   "execution_count": 27,
   "id": "77748fdd-17b5-429d-895b-64b01d767fa1",
   "metadata": {},
   "outputs": [],
   "source": [
    "# same in lambda function\n",
    "\n",
    "evenorodd=lambda n:n%2==0"
   ]
  },
  {
   "cell_type": "code",
   "execution_count": 28,
   "id": "80bdf41e-2958-4904-802f-12d3295f65ec",
   "metadata": {},
   "outputs": [
    {
     "data": {
      "text/plain": [
       "True"
      ]
     },
     "execution_count": 28,
     "metadata": {},
     "output_type": "execute_result"
    }
   ],
   "source": [
    "evenorodd(4)"
   ]
  },
  {
   "cell_type": "code",
   "execution_count": 29,
   "id": "5db218db-13eb-4251-9165-0beaa8a1730a",
   "metadata": {},
   "outputs": [],
   "source": [
    "# same in lambda function\n",
    "\n",
    "evenorodd=lambda n:\"true\" if n%2==0 else \"false\""
   ]
  },
  {
   "cell_type": "code",
   "execution_count": 32,
   "id": "4efff0f7-e2b9-4940-bf12-bb0663860176",
   "metadata": {},
   "outputs": [
    {
     "data": {
      "text/plain": [
       "'true'"
      ]
     },
     "execution_count": 32,
     "metadata": {},
     "output_type": "execute_result"
    }
   ],
   "source": [
    "evenorodd(10)"
   ]
  },
  {
   "cell_type": "markdown",
   "id": "9e15f784-743f-498e-845b-e5f1b392cf5c",
   "metadata": {},
   "source": [
    "# write a lambda function that accepts two arguments and eturns the greater amongst them"
   ]
  },
  {
   "cell_type": "code",
   "execution_count": 33,
   "id": "a72bf870-be2c-4b75-9f60-440a2cea3d3b",
   "metadata": {},
   "outputs": [],
   "source": [
    "greatest_num=lambda a,b:a if a>b else b"
   ]
  },
  {
   "cell_type": "code",
   "execution_count": 34,
   "id": "e5eed0be-698a-45a5-9e1c-6316d408235f",
   "metadata": {},
   "outputs": [
    {
     "data": {
      "text/plain": [
       "199"
      ]
     },
     "execution_count": 34,
     "metadata": {},
     "output_type": "execute_result"
    }
   ],
   "source": [
    "greatest_num(10,199)"
   ]
  },
  {
   "cell_type": "code",
   "execution_count": null,
   "id": "0830dec2-df26-4b37-8af5-64b13c87d0ac",
   "metadata": {},
   "outputs": [],
   "source": []
  }
 ],
 "metadata": {
  "kernelspec": {
   "display_name": "Python 3 (ipykernel)",
   "language": "python",
   "name": "python3"
  },
  "language_info": {
   "codemirror_mode": {
    "name": "ipython",
    "version": 3
   },
   "file_extension": ".py",
   "mimetype": "text/x-python",
   "name": "python",
   "nbconvert_exporter": "python",
   "pygments_lexer": "ipython3",
   "version": "3.10.6"
  }
 },
 "nbformat": 4,
 "nbformat_minor": 5
}
